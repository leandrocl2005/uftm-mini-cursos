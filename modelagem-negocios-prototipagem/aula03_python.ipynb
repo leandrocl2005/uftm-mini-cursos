{
 "cells": [
  {
   "cell_type": "markdown",
   "metadata": {
    "id": "6J4oLu489Nly"
   },
   "source": [
    "# Aplicações com Python"
   ]
  },
  {
   "cell_type": "markdown",
   "metadata": {
    "id": "ErSMbihZ9UEC"
   },
   "source": [
    "### Sumário\n",
    "  - Formatando documentos com `Regex`\n",
    "  - Raspagem de dados web com `Selenium`\n",
    "  - Built-in function `open`\n",
    "  - Criando e salvando planilhas com `Pandas`\n",
    "  - Manipulando dados de planilhas com `Pandas`\n",
    "  - Lendo arquivos PDF com PyPDF2\n",
    "  - Acessando API's com `requests`\n",
    "  - Criando paleta de cores com a API do Colormind"
   ]
  },
  {
   "cell_type": "markdown",
   "metadata": {
    "id": "wQavPoJg44ft"
   },
   "source": [
    "## Formatando documentos com Regex"
   ]
  },
  {
   "cell_type": "markdown",
   "metadata": {
    "id": "Tt9k7dG3OpVJ"
   },
   "source": [
    "Devido ao grande número de golpes digitais, onde o bandido, de posse dos dados pessoais da pessoa cria contas ou se passar pela mesma em várias situações para cometer crimes, foi solicitado que todos os CPF's de todos documentos públicos tenham do 4º ao 9º dígitos (inclusive estes) repassados por *. Sua missão é fazer isso em todos documentos digitais públicos da empresa."
   ]
  },
  {
   "cell_type": "code",
   "execution_count": 1,
   "metadata": {},
   "outputs": [],
   "source": [
    "# Biblioteca para identificar, encontrar e substituir padrões de texto\n",
    "import re"
   ]
  },
  {
   "cell_type": "code",
   "execution_count": 2,
   "metadata": {
    "colab": {
     "base_uri": "https://localhost:8080/"
    },
    "id": "m5mndo2XO2rN",
    "outputId": "f8ff9c94-10d9-4a45-cdd6-95595f5313d5"
   },
   "outputs": [
    {
     "name": "stdout",
     "output_type": "stream",
     "text": [
      "['385.749.880-30', '531.130.990-30']\n"
     ]
    }
   ],
   "source": [
    "# objeto do tipo string representando o texto a ser formatado\n",
    "documento = \"\"\"\n",
    "  Lorem ipsum dolor sit amet, consectetur adipiscing elit.\n",
    "  Donec laoreet magna at tortor imperdiet 385.749.880-30 porttitor.\n",
    "  Curabitur eu metus vehicula lacus vestibulum tempor.\n",
    "  Sed odio turpis, convallis et neque facilisis, malesuada luctus ex.\n",
    "  Class aptent taciti sociosqu 994.59160.73-6 ad litora torquent\n",
    "  per conubia nostra, per 475.85417.87-0 inceptos himenaeos.\n",
    "  Pellentesque lacinia purus id leo consectetur, nec dignissim metus imperdiet.\n",
    "  Maecenas ac leo imperdiet, porttitor 531.130.990-30 neque sed, dictum augue.\n",
    "  Ut ac augue orci.\n",
    "\"\"\"\n",
    "\n",
    "# Definindo o padrão para encontrar CPF\n",
    "# \\d dígito\n",
    "# {3} 3 vezes\n",
    "# {2} 2 vezes\n",
    "# \\. ponto\n",
    "# \\- hífen\n",
    "# Para aprender e testar padrões https://regexr.com/\n",
    "padrao = re.compile(\"\\d{3}\\.\\d{3}\\.\\d{3}\\-\\d{2}\")\n",
    "\n",
    "# Encontrando todos os CPF's no documento\n",
    "cpfs = re.findall(padrao, documento)\n",
    "\n",
    "# imprimindo o resultado\n",
    "print(cpfs)"
   ]
  },
  {
   "cell_type": "markdown",
   "metadata": {},
   "source": [
    "No código acima encontramos os padrões (CPF's) e mostramos."
   ]
  },
  {
   "cell_type": "code",
   "execution_count": 3,
   "metadata": {
    "colab": {
     "base_uri": "https://localhost:8080/"
    },
    "id": "cWfpJb0CO-i-",
    "outputId": "b79dfdb7-0c25-4cd4-9350-47ea1f022a53"
   },
   "outputs": [
    {
     "name": "stdout",
     "output_type": "stream",
     "text": [
      "[('385.', '749.880', '-30'), ('531.', '130.990', '-30')]\n"
     ]
    }
   ],
   "source": [
    "# use parênteses para agrupar padrões\n",
    "padrao = re.compile(\"(\\d{3}\\.)(\\d{3}\\.\\d{3})(\\-\\d{2})\")\n",
    "\n",
    "# Encontrando todos os CPF's no documento\n",
    "cpfs = re.findall(padrao, documento)\n",
    "\n",
    "# imprimindo o resultado\n",
    "print(cpfs)"
   ]
  },
  {
   "cell_type": "markdown",
   "metadata": {},
   "source": [
    "No código acima, novamente, encontramos os padrões (CPF's) e mostramos, só que dessa vez separamos em três grupos, a saber, o primeiro grupo dos 3 primeiros dígitos mais o ponto, o segundo grupo dos 6 próximos dígitos mais o segundo ponto e o terceiro grupo com o hífen e os dois últimos dígitos."
   ]
  },
  {
   "cell_type": "markdown",
   "metadata": {},
   "source": [
    "Nosso próximo passo é manter o primeiro e último grupo e alterar o grupo 2."
   ]
  },
  {
   "cell_type": "markdown",
   "metadata": {},
   "source": [
    "<img width=\"350px\" src=\"../assets/regex.png\">"
   ]
  },
  {
   "cell_type": "code",
   "execution_count": 5,
   "metadata": {
    "colab": {
     "base_uri": "https://localhost:8080/"
    },
    "id": "WA7wnxtERNUW",
    "outputId": "ceee959a-8f2e-4927-9728-32ed3494a33c"
   },
   "outputs": [
    {
     "name": "stdout",
     "output_type": "stream",
     "text": [
      "\n",
      "  Lorem ipsum dolor sit amet, consectetur adipiscing elit.\n",
      "  Donec laoreet magna at tortor imperdiet 385.***.***-30 porttitor.\n",
      "  Curabitur eu metus vehicula lacus vestibulum tempor.\n",
      "  Sed odio turpis, convallis et neque facilisis, malesuada luctus ex.\n",
      "  Class aptent taciti sociosqu 994.59160.73-6 ad litora torquent\n",
      "  per conubia nostra, per 475.85417.87-0 inceptos himenaeos.\n",
      "  Pellentesque lacinia purus id leo consectetur, nec dignissim metus imperdiet.\n",
      "  Maecenas ac leo imperdiet, porttitor 531.***.***-30 neque sed, dictum augue.\n",
      "  Ut ac augue orci.\n",
      "\n"
     ]
    }
   ],
   "source": [
    "# use parênteses para agrupar padrões\n",
    "padrao = re.compile(\"(\\d{3}\\.)(\\d{3}\\.\\d{3})(\\-\\d{2})\")\n",
    "\n",
    "# Substituindo todos os CPF's no documento\n",
    "novo_documento = re.sub(padrao, \"\\g<1>***.***\\g<3>\", documento)\n",
    "\n",
    "# Mostrando o novo documento\n",
    "print(novo_documento)"
   ]
  },
  {
   "cell_type": "markdown",
   "metadata": {
    "id": "arS0MNAmjcI_"
   },
   "source": [
    "# Raspagem de dados na Web"
   ]
  },
  {
   "cell_type": "markdown",
   "metadata": {
    "id": "Y5_lXT3IjcMJ"
   },
   "source": [
    "### Configuração do Selenium para Google Colab"
   ]
  },
  {
   "cell_type": "markdown",
   "metadata": {},
   "source": [
    "O código abaixo configura o Colab para instalação das ferramentas necessárias. Não se preocupe com a complexidade, copie todo o código, cole no seu notebook e execute."
   ]
  },
  {
   "cell_type": "code",
   "execution_count": null,
   "metadata": {
    "colab": {
     "base_uri": "https://localhost:8080/"
    },
    "id": "Se6z2HXhjcOn",
    "outputId": "9d8dea00-a1f4-4b58-9179-47da1ae020ee"
   },
   "outputs": [],
   "source": [
    "%%shell\n",
    "# Ubuntu no longer distributes chromium-browser outside of snap\n",
    "#\n",
    "# Proposed solution: https://askubuntu.com/questions/1204571/how-to-install-chromium-without-snap\n",
    "\n",
    "# Add debian buster\n",
    "cat > /etc/apt/sources.list.d/debian.list <<'EOF'\n",
    "deb [arch=amd64 signed-by=/usr/share/keyrings/debian-buster.gpg] http://deb.debian.org/debian buster main\n",
    "deb [arch=amd64 signed-by=/usr/share/keyrings/debian-buster-updates.gpg] http://deb.debian.org/debian buster-updates main\n",
    "deb [arch=amd64 signed-by=/usr/share/keyrings/debian-security-buster.gpg] http://deb.debian.org/debian-security buster/updates main\n",
    "EOF\n",
    "\n",
    "# Add keys\n",
    "apt-key adv --keyserver keyserver.ubuntu.com --recv-keys DCC9EFBF77E11517\n",
    "apt-key adv --keyserver keyserver.ubuntu.com --recv-keys 648ACFD622F3D138\n",
    "apt-key adv --keyserver keyserver.ubuntu.com --recv-keys 112695A0E562B32A\n",
    "\n",
    "apt-key export 77E11517 | gpg --dearmour -o /usr/share/keyrings/debian-buster.gpg\n",
    "apt-key export 22F3D138 | gpg --dearmour -o /usr/share/keyrings/debian-buster-updates.gpg\n",
    "apt-key export E562B32A | gpg --dearmour -o /usr/share/keyrings/debian-security-buster.gpg\n",
    "\n",
    "# Prefer debian repo for chromium* packages only\n",
    "# Note the double-blank lines between entries\n",
    "cat > /etc/apt/preferences.d/chromium.pref << 'EOF'\n",
    "Package: *\n",
    "Pin: release a=eoan\n",
    "Pin-Priority: 500\n",
    "\n",
    "\n",
    "Package: *\n",
    "Pin: origin \"deb.debian.org\"\n",
    "Pin-Priority: 300\n",
    "\n",
    "\n",
    "Package: chromium*\n",
    "Pin: origin \"deb.debian.org\"\n",
    "Pin-Priority: 700\n",
    "EOF"
   ]
  },
  {
   "cell_type": "markdown",
   "metadata": {},
   "source": [
    "O código abaixo atualiza os repositórios do Linux no Colab, instala o driver (o robô) e, por fim, instala a biblioteca Python Selenium para controlar o driver."
   ]
  },
  {
   "cell_type": "code",
   "execution_count": null,
   "metadata": {
    "id": "EmTBw-F1m1pp"
   },
   "outputs": [],
   "source": [
    "!apt-get update\n",
    "!apt-get install chromium chromium-driver\n",
    "!pip3 install selenium"
   ]
  },
  {
   "cell_type": "markdown",
   "metadata": {
    "id": "89aQXGDznRLX"
   },
   "source": [
    "Você está fazendo um orçamento de um eletrodoméstico para uma escola pública. Faça um código em Python que faça uma pesquisa de preços."
   ]
  },
  {
   "cell_type": "code",
   "execution_count": null,
   "metadata": {
    "id": "LvzNoSkmk0R5"
   },
   "outputs": [],
   "source": [
    "# importando as bibliotecas\n",
    "from selenium import webdriver\n",
    "from selenium.webdriver.chrome.service import Service\n",
    "import time"
   ]
  },
  {
   "cell_type": "code",
   "execution_count": null,
   "metadata": {
    "colab": {
     "base_uri": "https://localhost:8080/"
    },
    "id": "mF_I2XstB_qK",
    "outputId": "df291b2d-e641-40ae-d523-40f02dc974e7"
   },
   "outputs": [],
   "source": [
    "# Substitua o texto pelo link do seu site\n",
    "url = \"DIGITE O SITE AQUI\"\n",
    "\n",
    "# Essas são configurações do driver\n",
    "service = Service(executable_path=r'/usr/bin/chromedriver')\n",
    "options = webdriver.ChromeOptions()\n",
    "options.add_argument('--headless')\n",
    "options.add_argument('--no-sandbox')\n",
    "options.add_argument('--disable-dev-shm-usage')\n",
    "driver = webdriver.Chrome(service=service, options=options)\n",
    "\n",
    "# Agora vamos entrar na página \n",
    "driver.get(url)\n",
    "\n",
    "# esperar a página carregar por 1 segundo\n",
    "time.sleep(1)\n",
    "\n",
    "# imprimir o conteúdo da tag title da página\n",
    "print(driver.title)\n",
    "\n",
    "# fechar o driver\n",
    "driver.quit()"
   ]
  },
  {
   "cell_type": "code",
   "execution_count": null,
   "metadata": {
    "colab": {
     "base_uri": "https://localhost:8080/"
    },
    "id": "PX99fmXtCI-D",
    "outputId": "946c68c8-f8c0-415a-a8ff-c300b4542ff0"
   },
   "outputs": [],
   "source": [
    "# Substitua o texto pelo link do seu site\n",
    "url = \"DIGITE O SITE AQUI\"\n",
    "\n",
    "# Essas são configurações do driver\n",
    "service = Service(executable_path=r'/usr/bin/chromedriver')\n",
    "options = webdriver.ChromeOptions()\n",
    "options.add_argument('--headless')\n",
    "options.add_argument('--no-sandbox')\n",
    "options.add_argument('--disable-dev-shm-usage')\n",
    "driver = webdriver.Chrome(service=service, options=options)\n",
    "\n",
    "# Agora vamos entrar na página \n",
    "driver.get(url)\n",
    "\n",
    "# esperar a página carregar por 6 segundos\n",
    "time.sleep(6)\n",
    "\n",
    "# Escolha um elemento na página, clique com o direito e depois em inspecionar (Google Chrome)\n",
    "# Substitua tag pela tag do elemento que você quer informações\n",
    "# Substitua atributo pelo atributo do elemento que você quer informações\n",
    "# Substitua valor pelo valor do atributo do elemento que você quer informações\n",
    "# O driver vai capturar as informações do elemento que você quer informações\n",
    "el = driver.find_element(\"xpath\", '//tag[@atributo=\"valor\"]') \n",
    "\n",
    "# Imprime o conteúdo da tag\n",
    "print(el.text)\n",
    "\n",
    "# fechar o driver\n",
    "driver.quit()"
   ]
  },
  {
   "cell_type": "markdown",
   "metadata": {},
   "source": [
    "Vimos como pegar informações de um elemento, agora veremos como pegar informação de vários elementos."
   ]
  },
  {
   "cell_type": "code",
   "execution_count": null,
   "metadata": {
    "colab": {
     "base_uri": "https://localhost:8080/"
    },
    "id": "iFS6t_llHTCA",
    "outputId": "9af43a80-8825-4119-b2d3-00fe702eb3f8"
   },
   "outputs": [],
   "source": [
    "# Substitua o texto pelo link do seu site\n",
    "url = \"DIGITE O SITE AQUI\"\n",
    "\n",
    "# Essas são configurações do driver\n",
    "service = Service(executable_path=r'/usr/bin/chromedriver')\n",
    "options = webdriver.ChromeOptions()\n",
    "options.add_argument('--headless')\n",
    "options.add_argument('--no-sandbox')\n",
    "options.add_argument('--disable-dev-shm-usage')\n",
    "driver = webdriver.Chrome(service=service, options=options)\n",
    "\n",
    "# Agora vamos entrar na página \n",
    "driver.get(url)\n",
    "\n",
    "# esperar a página carregar por 6 segundos\n",
    "time.sleep(6)\n",
    "\n",
    "# Escolha um elemento na página, clique com o direito e depois em inspecionar (Google Chrome)\n",
    "# Substitua tag pela tag do elemento que você quer informações\n",
    "# Substitua atributo pelo atributo do elemento que você quer informações\n",
    "# Substitua valor pelo valor do atributo do elemento que você quer informações\n",
    "# O driver vai capturar as informações do elemento que você quer informações\n",
    "el = driver.find_elements(\"xpath\", '//tag[@atributo=\"valor\"]')\n",
    "\n",
    "# criando a lista com o nome dos produtos\n",
    "prods = []\n",
    "for el in els:\n",
    "    print(el.text) # imprimindo o nome\n",
    "    prods.append(el.text) # adicionando a lista\n",
    "\n",
    "# fechar o driver\n",
    "driver.quit()"
   ]
  },
  {
   "cell_type": "markdown",
   "metadata": {},
   "source": [
    "O código acima criou uma lista com os nomes dos produtos, agora criaremos uma lista com os preços dos produtos."
   ]
  },
  {
   "cell_type": "code",
   "execution_count": null,
   "metadata": {
    "colab": {
     "base_uri": "https://localhost:8080/"
    },
    "id": "PpaJyLA8Clpj",
    "outputId": "2c7d4968-1ccb-42cc-9a59-e20b6ae88978"
   },
   "outputs": [],
   "source": [
    "# Substitua o texto pelo link do seu site\n",
    "url = \"DIGITE O SITE AQUI\"\n",
    "\n",
    "# Essas são configurações do driver\n",
    "service = Service(executable_path=r'/usr/bin/chromedriver')\n",
    "options = webdriver.ChromeOptions()\n",
    "options.add_argument('--headless')\n",
    "options.add_argument('--no-sandbox')\n",
    "options.add_argument('--disable-dev-shm-usage')\n",
    "driver = webdriver.Chrome(service=service, options=options)\n",
    "\n",
    "# Agora vamos entrar na página \n",
    "driver.get(url)\n",
    "\n",
    "# esperar a página carregar por 6 segundos\n",
    "time.sleep(6)\n",
    "\n",
    "# Escolha um elemento na página, clique com o direito e depois em inspecionar (Google Chrome)\n",
    "# Substitua tag pela tag do elemento que você quer informações\n",
    "# Substitua atributo pelo atributo do elemento que você quer informações\n",
    "# Substitua valor pelo valor do atributo do elemento que você quer informações\n",
    "# O driver vai capturar as informações do elemento que você quer informações\n",
    "el = driver.find_elements(\"xpath\", '//tag[@atributo=\"valor\"]')\n",
    "\n",
    "# criando a lista com o nome dos produtos\n",
    "prices = []\n",
    "for el in els:\n",
    "    print(el.text) # imprimindo o nome\n",
    "    prices.append(el.text) # adicionando a lista\n",
    "\n",
    "# fechar o driver\n",
    "driver.quit()"
   ]
  },
  {
   "cell_type": "markdown",
   "metadata": {},
   "source": [
    "As listas devem ter o mesmo tamanho para continuarmos!"
   ]
  },
  {
   "cell_type": "code",
   "execution_count": null,
   "metadata": {
    "colab": {
     "base_uri": "https://localhost:8080/"
    },
    "id": "i8C3-a0a0Q7a",
    "outputId": "6b13fadf-33e6-49fd-e6a7-e32a77b4f668"
   },
   "outputs": [],
   "source": [
    "print(len(prices))\n",
    "print(len(prods))"
   ]
  },
  {
   "cell_type": "markdown",
   "metadata": {},
   "source": [
    "Caso seu código não tenha capturado as listas de tamanho correto ou em formatos corretos, pode usar as variáveis abaixo para prosseguir com o tutorial."
   ]
  },
  {
   "cell_type": "code",
   "execution_count": 6,
   "metadata": {},
   "outputs": [],
   "source": [
    "prices = [\"R$ 1.000,00\", \"R$ 578,00\", \"R$ 115,12\", \"R$ 2.567,99\", \"R$ 325,00\"]\n",
    "prods = [\"Sugar\", \"Microondas\", \"Ventilador\", \"Cama box king\", \"Batedeira\"]"
   ]
  },
  {
   "cell_type": "markdown",
   "metadata": {
    "id": "Vkzeseja9iZC"
   },
   "source": [
    "Salvaremos nosso orçamento num arquivo de nome orcamento.txt"
   ]
  },
  {
   "cell_type": "code",
   "execution_count": 7,
   "metadata": {
    "id": "jqP9iYby0uaL"
   },
   "outputs": [],
   "source": [
    "f = open(\"orcamento.txt\", \"w\")\n",
    "for prod, price in zip(prods, prices):\n",
    "    f.write(prod + \" \" + price + \"\\n\")\n",
    "f.close()"
   ]
  },
  {
   "cell_type": "markdown",
   "metadata": {
    "id": "S2eZAx5f4tpV"
   },
   "source": [
    "## Criando  e salvando planilhas com Pandas"
   ]
  },
  {
   "cell_type": "markdown",
   "metadata": {
    "id": "7rXrJ7lv1OO0"
   },
   "source": [
    "A escola prefere o arquivo em excel. Faça uma planilha com o orçamento levantado."
   ]
  },
  {
   "cell_type": "code",
   "execution_count": 12,
   "metadata": {
    "id": "Qxk-2rCH1OU3"
   },
   "outputs": [],
   "source": [
    "import pandas as pd\n",
    "\n",
    "planilha = pd.DataFrame({\n",
    "    \"Item\": prods,\n",
    "    \"Preço\": prices\n",
    "})\n",
    "\n",
    "planilha.to_excel(\"output.xlsx\")"
   ]
  },
  {
   "cell_type": "markdown",
   "metadata": {},
   "source": [
    "Podemos visualizar as 3 primeiras linhas da planilha acima:"
   ]
  },
  {
   "cell_type": "code",
   "execution_count": 13,
   "metadata": {},
   "outputs": [
    {
     "data": {
      "text/html": [
       "<div>\n",
       "<style scoped>\n",
       "    .dataframe tbody tr th:only-of-type {\n",
       "        vertical-align: middle;\n",
       "    }\n",
       "\n",
       "    .dataframe tbody tr th {\n",
       "        vertical-align: top;\n",
       "    }\n",
       "\n",
       "    .dataframe thead th {\n",
       "        text-align: right;\n",
       "    }\n",
       "</style>\n",
       "<table border=\"1\" class=\"dataframe\">\n",
       "  <thead>\n",
       "    <tr style=\"text-align: right;\">\n",
       "      <th></th>\n",
       "      <th>Item</th>\n",
       "      <th>Preço</th>\n",
       "    </tr>\n",
       "  </thead>\n",
       "  <tbody>\n",
       "    <tr>\n",
       "      <th>0</th>\n",
       "      <td>Sugar</td>\n",
       "      <td>R$ 1.000,00</td>\n",
       "    </tr>\n",
       "    <tr>\n",
       "      <th>1</th>\n",
       "      <td>Microondas</td>\n",
       "      <td>R$ 578,00</td>\n",
       "    </tr>\n",
       "    <tr>\n",
       "      <th>2</th>\n",
       "      <td>Ventilador</td>\n",
       "      <td>R$ 115,12</td>\n",
       "    </tr>\n",
       "  </tbody>\n",
       "</table>\n",
       "</div>"
      ],
      "text/plain": [
       "         Item        Preço\n",
       "0       Sugar  R$ 1.000,00\n",
       "1  Microondas    R$ 578,00\n",
       "2  Ventilador    R$ 115,12"
      ]
     },
     "execution_count": 13,
     "metadata": {},
     "output_type": "execute_result"
    }
   ],
   "source": [
    "planilha.head(3)"
   ]
  },
  {
   "cell_type": "markdown",
   "metadata": {
    "id": "FRtr16fF4poV"
   },
   "source": [
    "## Manipulando dados de planilhas"
   ]
  },
  {
   "cell_type": "markdown",
   "metadata": {
    "id": "ctr3DQWD1OXu"
   },
   "source": [
    "A escola não esperava uma planilha tão grande e precisa agora saber qual produto é mais barato. Precisa novamente da sua ajuda."
   ]
  },
  {
   "cell_type": "code",
   "execution_count": 14,
   "metadata": {
    "colab": {
     "base_uri": "https://localhost:8080/",
     "height": 206
    },
    "id": "bv_8idC91Oal",
    "outputId": "047ff7fb-fe35-4f0f-8749-57a12d0a1e8c"
   },
   "outputs": [
    {
     "data": {
      "text/html": [
       "<div>\n",
       "<style scoped>\n",
       "    .dataframe tbody tr th:only-of-type {\n",
       "        vertical-align: middle;\n",
       "    }\n",
       "\n",
       "    .dataframe tbody tr th {\n",
       "        vertical-align: top;\n",
       "    }\n",
       "\n",
       "    .dataframe thead th {\n",
       "        text-align: right;\n",
       "    }\n",
       "</style>\n",
       "<table border=\"1\" class=\"dataframe\">\n",
       "  <thead>\n",
       "    <tr style=\"text-align: right;\">\n",
       "      <th></th>\n",
       "      <th>Item</th>\n",
       "      <th>Preço</th>\n",
       "    </tr>\n",
       "  </thead>\n",
       "  <tbody>\n",
       "    <tr>\n",
       "      <th>0</th>\n",
       "      <td>Sugar</td>\n",
       "      <td>R$ 1.000,00</td>\n",
       "    </tr>\n",
       "    <tr>\n",
       "      <th>1</th>\n",
       "      <td>Microondas</td>\n",
       "      <td>R$ 578,00</td>\n",
       "    </tr>\n",
       "    <tr>\n",
       "      <th>2</th>\n",
       "      <td>Ventilador</td>\n",
       "      <td>R$ 115,12</td>\n",
       "    </tr>\n",
       "    <tr>\n",
       "      <th>3</th>\n",
       "      <td>Cama box king</td>\n",
       "      <td>R$ 2.567,99</td>\n",
       "    </tr>\n",
       "  </tbody>\n",
       "</table>\n",
       "</div>"
      ],
      "text/plain": [
       "            Item        Preço\n",
       "0          Sugar  R$ 1.000,00\n",
       "1     Microondas    R$ 578,00\n",
       "2     Ventilador    R$ 115,12\n",
       "3  Cama box king  R$ 2.567,99"
      ]
     },
     "execution_count": 14,
     "metadata": {},
     "output_type": "execute_result"
    }
   ],
   "source": [
    "# lendo os dados da planilha salva\n",
    "planilha = pd.read_excel('output.xlsx', index_col=0)\n",
    "\n",
    "# podemos conferir olhando as 4 primeiras linhas\n",
    "planilha.head(4)"
   ]
  },
  {
   "cell_type": "markdown",
   "metadata": {},
   "source": [
    "Como os valores estão em texto, temos que trocar para flots. Para isso vamos formatar os valores. Pedi para o chatGPT fazer a função para resolver esse problema:"
   ]
  },
  {
   "cell_type": "code",
   "execution_count": 15,
   "metadata": {
    "id": "NUsTNdzS3B10"
   },
   "outputs": [],
   "source": [
    "def convert_price_to_float(price): # by chatGPT\n",
    "    # Remove the 'R$' from the price string\n",
    "    price = re.sub(r'R\\$ ', '', price)\n",
    "    # Replace the thousands separator '.' with nothing\n",
    "    price = re.sub(r'\\.', '', price)\n",
    "    # Replace the decimal separator ',' with '.'\n",
    "    price = re.sub(r',', '.', price)\n",
    "\n",
    "    return float(price)"
   ]
  },
  {
   "cell_type": "code",
   "execution_count": 16,
   "metadata": {},
   "outputs": [],
   "source": [
    "# Aplicando a função e substituindo a coluna preço\n",
    "planilha['Preço'] = planilha['Preço'].map(convert_price_to_float)"
   ]
  },
  {
   "cell_type": "code",
   "execution_count": 17,
   "metadata": {
    "colab": {
     "base_uri": "https://localhost:8080/",
     "height": 206
    },
    "id": "a0ylTmkm4YHb",
    "outputId": "67df243c-53e4-4692-e3aa-12c6dd3a5f75"
   },
   "outputs": [
    {
     "data": {
      "text/html": [
       "<div>\n",
       "<style scoped>\n",
       "    .dataframe tbody tr th:only-of-type {\n",
       "        vertical-align: middle;\n",
       "    }\n",
       "\n",
       "    .dataframe tbody tr th {\n",
       "        vertical-align: top;\n",
       "    }\n",
       "\n",
       "    .dataframe thead th {\n",
       "        text-align: right;\n",
       "    }\n",
       "</style>\n",
       "<table border=\"1\" class=\"dataframe\">\n",
       "  <thead>\n",
       "    <tr style=\"text-align: right;\">\n",
       "      <th></th>\n",
       "      <th>Item</th>\n",
       "      <th>Preço</th>\n",
       "    </tr>\n",
       "  </thead>\n",
       "  <tbody>\n",
       "    <tr>\n",
       "      <th>2</th>\n",
       "      <td>Ventilador</td>\n",
       "      <td>115.12</td>\n",
       "    </tr>\n",
       "    <tr>\n",
       "      <th>4</th>\n",
       "      <td>Batedeira</td>\n",
       "      <td>325.00</td>\n",
       "    </tr>\n",
       "    <tr>\n",
       "      <th>1</th>\n",
       "      <td>Microondas</td>\n",
       "      <td>578.00</td>\n",
       "    </tr>\n",
       "    <tr>\n",
       "      <th>0</th>\n",
       "      <td>Sugar</td>\n",
       "      <td>1000.00</td>\n",
       "    </tr>\n",
       "    <tr>\n",
       "      <th>3</th>\n",
       "      <td>Cama box king</td>\n",
       "      <td>2567.99</td>\n",
       "    </tr>\n",
       "  </tbody>\n",
       "</table>\n",
       "</div>"
      ],
      "text/plain": [
       "            Item    Preço\n",
       "2     Ventilador   115.12\n",
       "4      Batedeira   325.00\n",
       "1     Microondas   578.00\n",
       "0          Sugar  1000.00\n",
       "3  Cama box king  2567.99"
      ]
     },
     "execution_count": 17,
     "metadata": {},
     "output_type": "execute_result"
    }
   ],
   "source": [
    "# mostrando a planilha ordenada por preço do menor para o maior\n",
    "planilha.sort_values('Preço', ascending=True).head()"
   ]
  },
  {
   "cell_type": "code",
   "execution_count": 20,
   "metadata": {
    "colab": {
     "base_uri": "https://localhost:8080/"
    },
    "id": "0M-dm7ge4_rF",
    "outputId": "0a9d171c-911f-419b-b564-dccae852f8b7"
   },
   "outputs": [
    {
     "name": "stdout",
     "output_type": "stream",
     "text": [
      "Preço mediano:  578.0\n"
     ]
    }
   ],
   "source": [
    "# calculando o preço mediano\n",
    "median = planilha['Preço'].median()\n",
    "print(\"Preço mediano: \", median)"
   ]
  },
  {
   "cell_type": "markdown",
   "metadata": {
    "id": "Eee5gbnX5l-2"
   },
   "source": [
    "## Lendo arquivos PDF's com PyPDF2"
   ]
  },
  {
   "cell_type": "markdown",
   "metadata": {
    "id": "604ETDCo7yOP"
   },
   "source": [
    "Você é novo no departamento jurídico da prefeitura de Uberlândia e precisa se informar sobre leis e decretos. Você pensou em começar a estudar os decretos mais comuns. Faça um programa em python que conte quantas vezes cada decreto é citado num diário oficial."
   ]
  },
  {
   "cell_type": "markdown",
   "metadata": {},
   "source": [
    "O código abaixo instala a biblioteca para transformar PDF em .txt, também retorna a string com o texto."
   ]
  },
  {
   "cell_type": "code",
   "execution_count": 22,
   "metadata": {
    "colab": {
     "base_uri": "https://localhost:8080/"
    },
    "id": "IR2WqjwWSQVI",
    "outputId": "c1a83f74-b949-4010-c1ec-2ba67943ba41"
   },
   "outputs": [],
   "source": [
    "!pip install PyPDF2"
   ]
  },
  {
   "cell_type": "markdown",
   "metadata": {},
   "source": [
    "A função para transformar está na próxima célula, não preocupe com os detalhes, tenha em mente que a função transforma o pdf num txt."
   ]
  },
  {
   "cell_type": "code",
   "execution_count": 25,
   "metadata": {
    "id": "JHF8LoKaWkfj"
   },
   "outputs": [],
   "source": [
    "import PyPDF2\n",
    "\n",
    "def convert_pdf_to_txt(pdf_file_path, txt_file_path):\n",
    "    # Open the PDF file in binary mode\n",
    "    with open(pdf_file_path, 'rb') as pdf_file:\n",
    "        # Create a PDF file reader object\n",
    "        pdf_reader = PyPDF2.PdfReader(pdf_file)\n",
    "\n",
    "        # Initialize an empty string to hold the PDF content\n",
    "        pdf_content = ''\n",
    "\n",
    "        # Loop through each page in the PDF and extract the text\n",
    "        for page_num in range(len(pdf_reader.pages)):\n",
    "            page = pdf_reader.pages[page_num]\n",
    "            pdf_content += page.extract_text()\n",
    "\n",
    "    # Open the TXT file in write mode and write the PDF content\n",
    "    with open(txt_file_path, 'w', encoding=\"utf-8\") as txt_file:\n",
    "        txt_file.write(pdf_content)\n",
    "    return pdf_content"
   ]
  },
  {
   "cell_type": "markdown",
   "metadata": {},
   "source": [
    "Na pasta tem um arquivo chamado udia_dou.pdf no qual iremos trabalhar. Esse arquivo é o diário oficial de Uberlândia."
   ]
  },
  {
   "cell_type": "code",
   "execution_count": 26,
   "metadata": {},
   "outputs": [],
   "source": [
    "# Convertendo pdf para txt\n",
    "# guardando o texto como string na variável pdf_content\n",
    "pdf_content = convert_pdf_to_txt('udia_dou.pdf', 'output.txt')"
   ]
  },
  {
   "cell_type": "code",
   "execution_count": 27,
   "metadata": {
    "colab": {
     "base_uri": "https://localhost:8080/"
    },
    "id": "ATVpa0MNZjVX",
    "outputId": "68b93480-14fe-456f-9928-e01471bab56a"
   },
   "outputs": [
    {
     "name": "stdout",
     "output_type": "stream",
     "text": [
      "['Decreto nº 17.999', 'Decreto nº 20.161', 'Decreto nº 9.490', 'Decreto nº 9.490', 'Decreto nº 9.490', 'Decreto nº 9.490', 'Decreto nº 9.490', 'Decreto nº 9.490', 'Decreto nº 9.490', 'Decreto nº 9.490', 'Decreto nº 9.490', 'Decreto nº 9.490', 'Decreto nº 9.490', 'Decreto nº 9.490', 'Decreto nº 9.490', 'Decreto nº 9.490', 'Decreto nº 9.490', 'Decreto nº 9.490', 'Decreto nº 9.490', 'Decreto nº 9.490', 'Decreto nº 9.490', 'Decreto nº 9.490', 'Decreto nº 9.490', 'Decreto nº 9.490', 'Decreto nº 9.490', 'Decreto nº 9.490', 'Decreto nº 17.786', 'Decreto nº 17.786', 'Decreto nº 19.394', 'Decreto nº 20.290', 'Decreto nº 20.290', 'Decreto nº 16.948', 'Decreto nº 17.786']\n"
     ]
    }
   ],
   "source": [
    "# Padrão para encontrar os decretos\n",
    "# \\s espaço\n",
    "# + um ou mais\n",
    "padrao = re.compile(r\"Decreto\\snº\\s\\d+\\.+\\d+\")\n",
    "\n",
    "# Encontrando os decretos\n",
    "decretos = re.findall(padrao, pdf_content)\n",
    "\n",
    "# Mostrando os decretos encontrados\n",
    "print(decretos)"
   ]
  },
  {
   "cell_type": "code",
   "execution_count": 28,
   "metadata": {
    "id": "TFQTSJMi60yf"
   },
   "outputs": [],
   "source": [
    "# Fazendo uma planilha com uma só coluna \n",
    "# usando a lista de decretos acima\n",
    "planilha = pd.DataFrame({\n",
    "    \"Decreto\": decretos\n",
    "})"
   ]
  },
  {
   "cell_type": "code",
   "execution_count": 29,
   "metadata": {},
   "outputs": [
    {
     "data": {
      "text/html": [
       "<div>\n",
       "<style scoped>\n",
       "    .dataframe tbody tr th:only-of-type {\n",
       "        vertical-align: middle;\n",
       "    }\n",
       "\n",
       "    .dataframe tbody tr th {\n",
       "        vertical-align: top;\n",
       "    }\n",
       "\n",
       "    .dataframe thead th {\n",
       "        text-align: right;\n",
       "    }\n",
       "</style>\n",
       "<table border=\"1\" class=\"dataframe\">\n",
       "  <thead>\n",
       "    <tr style=\"text-align: right;\">\n",
       "      <th></th>\n",
       "      <th>Decreto</th>\n",
       "    </tr>\n",
       "  </thead>\n",
       "  <tbody>\n",
       "    <tr>\n",
       "      <th>0</th>\n",
       "      <td>Decreto nº 17.999</td>\n",
       "    </tr>\n",
       "    <tr>\n",
       "      <th>1</th>\n",
       "      <td>Decreto nº 20.161</td>\n",
       "    </tr>\n",
       "    <tr>\n",
       "      <th>2</th>\n",
       "      <td>Decreto nº 9.490</td>\n",
       "    </tr>\n",
       "    <tr>\n",
       "      <th>3</th>\n",
       "      <td>Decreto nº 9.490</td>\n",
       "    </tr>\n",
       "    <tr>\n",
       "      <th>4</th>\n",
       "      <td>Decreto nº 9.490</td>\n",
       "    </tr>\n",
       "    <tr>\n",
       "      <th>5</th>\n",
       "      <td>Decreto nº 9.490</td>\n",
       "    </tr>\n",
       "    <tr>\n",
       "      <th>6</th>\n",
       "      <td>Decreto nº 9.490</td>\n",
       "    </tr>\n",
       "  </tbody>\n",
       "</table>\n",
       "</div>"
      ],
      "text/plain": [
       "             Decreto\n",
       "0  Decreto nº 17.999\n",
       "1  Decreto nº 20.161\n",
       "2   Decreto nº 9.490\n",
       "3   Decreto nº 9.490\n",
       "4   Decreto nº 9.490\n",
       "5   Decreto nº 9.490\n",
       "6   Decreto nº 9.490"
      ]
     },
     "execution_count": 29,
     "metadata": {},
     "output_type": "execute_result"
    }
   ],
   "source": [
    "# podemos ver as 7 primeiras linhas da planilha\n",
    "planilha.head(7)"
   ]
  },
  {
   "cell_type": "code",
   "execution_count": 30,
   "metadata": {
    "colab": {
     "base_uri": "https://localhost:8080/"
    },
    "id": "LIRmA5A385xY",
    "outputId": "99a28d60-37b1-4d06-cb71-865034c019b5"
   },
   "outputs": [
    {
     "data": {
      "text/plain": [
       "Decreto\n",
       "Decreto nº 9.490     24\n",
       "Decreto nº 17.786     3\n",
       "Decreto nº 20.290     2\n",
       "Decreto nº 17.999     1\n",
       "Decreto nº 20.161     1\n",
       "Decreto nº 19.394     1\n",
       "Decreto nº 16.948     1\n",
       "Name: count, dtype: int64"
      ]
     },
     "execution_count": 30,
     "metadata": {},
     "output_type": "execute_result"
    }
   ],
   "source": [
    "# Contando os decretos\n",
    "planilha['Decreto'].value_counts()"
   ]
  },
  {
   "cell_type": "markdown",
   "metadata": {},
   "source": [
    "Se você é um estagiário do setor jurídico da prefeitura de Uberlândia e quer estudar os decretos, comece pelo Decreto nº 9.490."
   ]
  },
  {
   "cell_type": "markdown",
   "metadata": {
    "id": "lbUeOj7AChHm"
   },
   "source": [
    "## Usando uma API de cores"
   ]
  },
  {
   "cell_type": "markdown",
   "metadata": {},
   "source": [
    "Dessa vez vamos conectar com serviços de outros sites. Para começar vamos pedir uma paleta de 5 cores. O site http://colormind.io/api-access/ mostra como usar a api para essa tarefa. No entanto as instruções mostram como acessar a api utilizando CURL, um programa do Linux. Como queremos utilizar Python, você pode usar o site https://curlconverter.com/ para converter os comandos CURL em códigos Python!"
   ]
  },
  {
   "cell_type": "code",
   "execution_count": 31,
   "metadata": {},
   "outputs": [],
   "source": [
    "# biblioteca para comunicar com outras aplicações\n",
    "import requests"
   ]
  },
  {
   "cell_type": "markdown",
   "metadata": {
    "id": "nnVWPoedC3-P"
   },
   "source": [
    "### GET"
   ]
  },
  {
   "cell_type": "markdown",
   "metadata": {},
   "source": [
    "A comunicação entre aplicações ocorre através de protocolos HTTP e utiliza-se verbos nesses protocolos. O verbo GET é utilizado na maioria das vezes para pegar informações. Como queremos uma paleta de cores usaremos esse verbo."
   ]
  },
  {
   "cell_type": "code",
   "execution_count": 32,
   "metadata": {
    "id": "kFgjnQxA88T_"
   },
   "outputs": [],
   "source": [
    "url = 'http://colormind.io/api/' # site da aplicação\n",
    "\n",
    "headers = {\n",
    "    'Content-Type': 'application/x-www-form-urlencoded', # cabeçalho da requisição\n",
    "}\n",
    "\n",
    "data = '{\"model\":\"default\"}' # dados da requisição\n",
    "\n",
    "response = requests.get(url, headers=headers, data=data) # VEJA O GET!!!"
   ]
  },
  {
   "cell_type": "markdown",
   "metadata": {},
   "source": [
    "A variável response é a resposta a sua requisição GET. Vamos transformar essa requisição em um dicionário."
   ]
  },
  {
   "cell_type": "code",
   "execution_count": 33,
   "metadata": {},
   "outputs": [
    {
     "data": {
      "text/plain": [
       "{'result': [[53, 70, 91],\n",
       "  [65, 130, 138],\n",
       "  [70, 136, 122],\n",
       "  [229, 219, 151],\n",
       "  [230, 87, 43]]}"
      ]
     },
     "execution_count": 33,
     "metadata": {},
     "output_type": "execute_result"
    }
   ],
   "source": [
    "response.json()"
   ]
  },
  {
   "cell_type": "code",
   "execution_count": 37,
   "metadata": {
    "id": "-o1F2b-x_hpj"
   },
   "outputs": [],
   "source": [
    "# função para mostrar as cores\n",
    "# não se preocupe com os detalhes\n",
    "# vamos apenas utilizar essa função passando a response\n",
    "\n",
    "import matplotlib.pyplot as plt\n",
    "def mostrar_cores(response):\n",
    "    cores = []\n",
    "    for x in response.json()['result']:\n",
    "        cores.append(\"#{:0>2}{:0>2}{:0>2}\".format(\n",
    "            str(hex(x[0])).replace(\"0x\", \"\"),\n",
    "            str(hex(x[1])).replace(\"0x\", \"\"),\n",
    "            str(hex(x[2])).replace(\"0x\", \"\")\n",
    "        ))\n",
    "    print(response.json()['result'])\n",
    "    print(cores)\n",
    "    plt.figure(figsize=(2,2))\n",
    "    plt.bar([1,2,3,4,5], height=[5,5,5,5,5], color=cores)\n",
    "    plt.show()"
   ]
  },
  {
   "cell_type": "code",
   "execution_count": 39,
   "metadata": {
    "colab": {
     "base_uri": "https://localhost:8080/",
     "height": 250
    },
    "id": "HIPIYWYY_Mor",
    "outputId": "59600997-9576-443a-cfff-da5cc48a8f94"
   },
   "outputs": [
    {
     "name": "stdout",
     "output_type": "stream",
     "text": [
      "[[53, 70, 91], [65, 130, 138], [70, 136, 122], [229, 219, 151], [230, 87, 43]]\n",
      "['#35465b', '#41828a', '#46887a', '#e5db97', '#e6572b']\n"
     ]
    },
    {
     "data": {
      "image/png": "[encoded data removed]",
      "text/plain": [
       "<Figure size 200x200 with 1 Axes>"
      ]
     },
     "metadata": {},
     "output_type": "display_data"
    }
   ],
   "source": [
    "# mostrando as cores\n",
    "mostrar_cores(response)"
   ]
  },
  {
   "cell_type": "markdown",
   "metadata": {
    "id": "uarcW7glC6gn"
   },
   "source": [
    "### POST"
   ]
  },
  {
   "cell_type": "markdown",
   "metadata": {},
   "source": [
    "Enquanto no GET apenas solicitamos um recurso. O POST é usado para criar um recurso. Outras aplicações, como o Colormind que estamos usando, também usa POST para envio de informações. Vejamos um exemplo. Observe que vamos enviar 2 cores RGB, o vermelhor [255,0,0] e o verde [0,255,0] e o Colormind vai nos dar as outras duas cores."
   ]
  },
  {
   "cell_type": "code",
   "execution_count": 40,
   "metadata": {
    "id": "WVpXlGxLBrEm"
   },
   "outputs": [],
   "source": [
    "url = 'http://colormind.io/api/' # site da aplicação\n",
    "\n",
    "headers = {\n",
    "    'Content-Type': 'application/x-www-form-urlencoded', # cabeçalho da requisição\n",
    "}\n",
    "\n",
    "data = '{\"input\":[[255, 0, 0],[0, 255, 0],\"N\",\"N\",\"N\"],\"model\":\"default\"}'  # dados da requisição\n",
    "\n",
    "response = requests.post(url, headers=headers, data=data) # VEJA O POST!!!"
   ]
  },
  {
   "cell_type": "code",
   "execution_count": 41,
   "metadata": {
    "colab": {
     "base_uri": "https://localhost:8080/",
     "height": 250
    },
    "id": "8cnCKNG4CZ1-",
    "outputId": "90fd4816-13a5-4dfa-8ab0-ba5adff66d63"
   },
   "outputs": [
    {
     "name": "stdout",
     "output_type": "stream",
     "text": [
      "[[254, 38, 20], [18, 237, 21], [50, 191, 167], [67, 174, 152], [50, 28, 42]]\n",
      "['#fe2614', '#12ed15', '#32bfa7', '#43ae98', '#321c2a']\n"
     ]
    },
    {
     "data": {
      "image/png": "[encoded data removed]",
      "text/plain": [
       "<Figure size 200x200 with 1 Axes>"
      ]
     },
     "metadata": {},
     "output_type": "display_data"
    }
   ],
   "source": [
    "mostrar_cores(response)"
   ]
  },
  {
   "cell_type": "markdown",
   "metadata": {},
   "source": [
    "Poderíamos mandar vermelho na primeira e azul na última seguindo a mesma lógica."
   ]
  },
  {
   "cell_type": "code",
   "execution_count": 42,
   "metadata": {},
   "outputs": [],
   "source": [
    "url = 'http://colormind.io/api/' # site da aplicação\n",
    "\n",
    "headers = {\n",
    "    'Content-Type': 'application/x-www-form-urlencoded', # cabeçalho da requisição\n",
    "}\n",
    "\n",
    "data = '{\"input\":[[255, 0, 0],\"N\",\"N\",\"N\",[0, 0, 255]],\"model\":\"default\"}'  # dados da requisição\n",
    "\n",
    "response = requests.post(url, headers=headers, data=data) # VEJA O POST!!!"
   ]
  },
  {
   "cell_type": "code",
   "execution_count": 44,
   "metadata": {},
   "outputs": [
    {
     "name": "stdout",
     "output_type": "stream",
     "text": [
      "[[249, 19, 15], [213, 128, 39], [215, 187, 118], [30, 130, 163], [14, 19, 242]]\n",
      "['#f9130f', '#d58027', '#d7bb76', '#1e82a3', '#0e13f2']\n"
     ]
    },
    {
     "data": {
      "image/png": "[encoded data removed]",
      "text/plain": [
       "<Figure size 200x200 with 1 Axes>"
      ]
     },
     "metadata": {},
     "output_type": "display_data"
    }
   ],
   "source": [
    "mostrar_cores(response)"
   ]
  },
  {
   "cell_type": "markdown",
   "metadata": {
    "id": "7Zhe-H8FIqDz"
   },
   "source": [
    "## API POKEMON - PEGÁ-LOS EU TENTAREI"
   ]
  },
  {
   "cell_type": "code",
   "execution_count": 45,
   "metadata": {
    "colab": {
     "base_uri": "https://localhost:8080/"
    },
    "id": "3v_KLSPn-3h6",
    "outputId": "943a901a-08e5-4b7a-89ab-c8e34e9651d5"
   },
   "outputs": [
    {
     "name": "stdout",
     "output_type": "stream",
     "text": [
      "dict_keys(['abilities', 'base_experience', 'forms', 'game_indices', 'height', 'held_items', 'id', 'is_default', 'location_area_encounters', 'moves', 'name', 'order', 'past_types', 'species', 'sprites', 'stats', 'types', 'weight'])\n"
     ]
    }
   ],
   "source": [
    "url = f'http://pokeapi.co/api/v1/pokemon/charizard/' # site da aplicação\n",
    "\n",
    "headers = {\n",
    "    \"Content-Type\": \"application/json\", # cabeçalho da requisição\n",
    "}\n",
    "\n",
    "data = {}  # Não enviaremos nada aqui, observe que pedimos as informações na url passando o nome do pokemon charizard\n",
    "\n",
    "# conseguindo a resposta do serviço\n",
    "response = requests.get(url, headers=headers, data=data)\n",
    "\n",
    "# transformando a response em dicionatio\n",
    "pokeinfo = response.json()\n",
    "\n",
    "# imprimindo as chaves do dicionário\n",
    "print(pokeinfo.keys())"
   ]
  },
  {
   "cell_type": "markdown",
   "metadata": {
    "id": "74ouj32WD_pv"
   },
   "source": [
    "Observe que podemos pegar várias informações do pokemon!"
   ]
  },
  {
   "cell_type": "code",
   "execution_count": 47,
   "metadata": {},
   "outputs": [
    {
     "data": {
      "text/plain": [
       "17"
      ]
     },
     "execution_count": 47,
     "metadata": {},
     "output_type": "execute_result"
    }
   ],
   "source": [
    "# Vamos ver qual a altura do charizard\n",
    "pokeinfo['height']"
   ]
  },
  {
   "cell_type": "code",
   "execution_count": 48,
   "metadata": {},
   "outputs": [
    {
     "data": {
      "text/plain": [
       "[{'base_stat': 78,\n",
       "  'effort': 0,\n",
       "  'stat': {'name': 'hp', 'url': 'https://pokeapi.co/api/v2/stat/1/'}},\n",
       " {'base_stat': 84,\n",
       "  'effort': 0,\n",
       "  'stat': {'name': 'attack', 'url': 'https://pokeapi.co/api/v2/stat/2/'}},\n",
       " {'base_stat': 78,\n",
       "  'effort': 0,\n",
       "  'stat': {'name': 'defense', 'url': 'https://pokeapi.co/api/v2/stat/3/'}},\n",
       " {'base_stat': 109,\n",
       "  'effort': 3,\n",
       "  'stat': {'name': 'special-attack',\n",
       "   'url': 'https://pokeapi.co/api/v2/stat/4/'}},\n",
       " {'base_stat': 85,\n",
       "  'effort': 0,\n",
       "  'stat': {'name': 'special-defense',\n",
       "   'url': 'https://pokeapi.co/api/v2/stat/5/'}},\n",
       " {'base_stat': 100,\n",
       "  'effort': 0,\n",
       "  'stat': {'name': 'speed', 'url': 'https://pokeapi.co/api/v2/stat/6/'}}]"
      ]
     },
     "execution_count": 48,
     "metadata": {},
     "output_type": "execute_result"
    }
   ],
   "source": [
    "# E como são os status do charizard\n",
    "pokeinfo['stats']"
   ]
  },
  {
   "cell_type": "markdown",
   "metadata": {},
   "source": [
    "Observe que os status são retornados em formato de lista e cada elemento da lista é outro dicionário."
   ]
  },
  {
   "cell_type": "code",
   "execution_count": 49,
   "metadata": {},
   "outputs": [
    {
     "name": "stdout",
     "output_type": "stream",
     "text": [
      "hp\n",
      "78\n"
     ]
    }
   ],
   "source": [
    "# imprimindo o nome do status e o valor do status 0\n",
    "print(pokeinfo['stats'][0]['stat']['name'])\n",
    "print(pokeinfo['stats'][0]['base_stat'])"
   ]
  },
  {
   "cell_type": "code",
   "execution_count": 50,
   "metadata": {},
   "outputs": [
    {
     "name": "stdout",
     "output_type": "stream",
     "text": [
      "attack\n",
      "84\n"
     ]
    }
   ],
   "source": [
    "# imprimindo o nome do status e o valor do status 1\n",
    "print(pokeinfo['stats'][1]['stat']['name'])\n",
    "print(pokeinfo['stats'][1]['base_stat'])"
   ]
  },
  {
   "cell_type": "code",
   "execution_count": 51,
   "metadata": {},
   "outputs": [
    {
     "name": "stdout",
     "output_type": "stream",
     "text": [
      "special-attack\n",
      "109\n"
     ]
    }
   ],
   "source": [
    "# imprimindo o nome do status e o valor do status 3\n",
    "print(pokeinfo['stats'][3]['stat']['name'])\n",
    "print(pokeinfo['stats'][3]['base_stat'])"
   ]
  },
  {
   "cell_type": "markdown",
   "metadata": {},
   "source": [
    "## Atividade para casa"
   ]
  },
  {
   "cell_type": "markdown",
   "metadata": {},
   "source": [
    "Explore mais a API pokemon. "
   ]
  },
  {
   "cell_type": "code",
   "execution_count": null,
   "metadata": {},
   "outputs": [],
   "source": []
  }
 ],
 "metadata": {
  "colab": {
   "provenance": []
  },
  "kernelspec": {
   "display_name": "Python 3 (ipykernel)",
   "language": "python",
   "name": "python3"
  },
  "language_info": {
   "codemirror_mode": {
    "name": "ipython",
    "version": 3
   },
   "file_extension": ".py",
   "mimetype": "text/x-python",
   "name": "python",
   "nbconvert_exporter": "python",
   "pygments_lexer": "ipython3",
   "version": "3.11.0"
  }
 },
 "nbformat": 4,
 "nbformat_minor": 1
}
