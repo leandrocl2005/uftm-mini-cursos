{
 "cells": [
  {
   "cell_type": "markdown",
   "metadata": {
    "id": "6J4oLu489Nly"
   },
   "source": [
    "# Aplicações com Python"
   ]
  },
  {
   "cell_type": "markdown",
   "metadata": {
    "id": "ErSMbihZ9UEC"
   },
   "source": [
    "### Sumário\n",
    "  - Formatando documentos com `Regex`\n",
    "  - Raspagem de dados web com `Selenium`\n",
    "  - Built-in function `open`\n",
    "  - Criando e salvando planilhas com `Pandas`\n",
    "  - Manipulando dados de planilhas com `Pandas`\n",
    "  - Lendo arquivos PDF com PyPDF2\n",
    "  - Acessando API's com `requests`\n",
    "  - Criando paleta de cores com a API do Colormind"
   ]
  },
  {
   "cell_type": "markdown",
   "metadata": {
    "id": "wQavPoJg44ft"
   },
   "source": [
    "## Formatando documentos com Regex"
   ]
  },
  {
   "cell_type": "markdown",
   "metadata": {
    "id": "Tt9k7dG3OpVJ"
   },
   "source": [
    "Devido ao grande número de golpes digitais, onde o bandido, de posse dos dados pessoais da pessoa cria contas ou se passar pela mesma em várias situações para cometer crimes, foi solicitado que todos os CPF's de todos documentos públicos tenham do 4º ao 9º dígitos (inclusive estes) repassados por *. Sua missão é fazer isso em todos documentos digitais públicos da empresa."
   ]
  },
  {
   "cell_type": "code",
   "execution_count": null,
   "metadata": {
    "colab": {
     "base_uri": "https://localhost:8080/"
    },
    "id": "m5mndo2XO2rN",
    "outputId": "f8ff9c94-10d9-4a45-cdd6-95595f5313d5"
   },
   "outputs": [],
   "source": [
    "documento = \"\"\"\n",
    "  Lorem ipsum dolor sit amet, consectetur adipiscing elit.\n",
    "  Donec laoreet magna at tortor imperdiet 385.749.880-30 porttitor.\n",
    "  Curabitur eu metus vehicula lacus vestibulum tempor.\n",
    "  Sed odio turpis, convallis et neque facilisis, malesuada luctus ex.\n",
    "  Class aptent taciti sociosqu 994.59160.73-6 ad litora torquent\n",
    "  per conubia nostra, per 475.85417.87-0 inceptos himenaeos.\n",
    "  Pellentesque lacinia purus id leo consectetur, nec dignissim metus imperdiet.\n",
    "  Maecenas ac leo imperdiet, porttitor 531.130.990-30 neque sed, dictum augue.\n",
    "  Ut ac augue orci.\n",
    "\"\"\"\n",
    "\n",
    "import re\n",
    "\n",
    "padrao = re.compile(\"\\d{3}\\.\\d{3}\\.\\d{3}\\-\\d{2}\")\n",
    "# para aprender e testar padrões https://regexr.com/\n",
    "\n",
    "cpfs = re.findall(padrao, documento)\n",
    "print(cpfs)"
   ]
  },
  {
   "cell_type": "code",
   "execution_count": null,
   "metadata": {
    "colab": {
     "base_uri": "https://localhost:8080/"
    },
    "id": "cWfpJb0CO-i-",
    "outputId": "b79dfdb7-0c25-4cd4-9350-47ea1f022a53"
   },
   "outputs": [],
   "source": [
    "# use parênteses para agrupar padrões\n",
    "padrao = re.compile(\"(\\d{3}\\.)(\\d{3}\\.\\d{3})(\\-\\d{2})\")\n",
    "\n",
    "cpfs = re.findall(padrao, documento)\n",
    "print(cpfs)"
   ]
  },
  {
   "cell_type": "code",
   "execution_count": null,
   "metadata": {
    "colab": {
     "base_uri": "https://localhost:8080/"
    },
    "id": "WA7wnxtERNUW",
    "outputId": "ceee959a-8f2e-4927-9728-32ed3494a33c"
   },
   "outputs": [],
   "source": [
    "padrao = re.compile(\"(\\d{3}\\.)(\\d{3}\\.\\d{3})(\\-\\d{2})\")\n",
    "\n",
    "novo_documento = re.sub(padrao, \"\\g<1>***.***\\g<3>\", documento)\n",
    "print(novo_documento)"
   ]
  },
  {
   "cell_type": "markdown",
   "metadata": {
    "id": "arS0MNAmjcI_"
   },
   "source": [
    "# Raspagem de dados na Web"
   ]
  },
  {
   "cell_type": "markdown",
   "metadata": {
    "id": "Y5_lXT3IjcMJ"
   },
   "source": [
    "### Configuração do Selenium para Google Colab"
   ]
  },
  {
   "cell_type": "code",
   "execution_count": null,
   "metadata": {
    "colab": {
     "base_uri": "https://localhost:8080/"
    },
    "id": "Se6z2HXhjcOn",
    "outputId": "9d8dea00-a1f4-4b58-9179-47da1ae020ee"
   },
   "outputs": [],
   "source": [
    "%%shell\n",
    "# Ubuntu no longer distributes chromium-browser outside of snap\n",
    "#\n",
    "# Proposed solution: https://askubuntu.com/questions/1204571/how-to-install-chromium-without-snap\n",
    "\n",
    "# Add debian buster\n",
    "cat > /etc/apt/sources.list.d/debian.list <<'EOF'\n",
    "deb [arch=amd64 signed-by=/usr/share/keyrings/debian-buster.gpg] http://deb.debian.org/debian buster main\n",
    "deb [arch=amd64 signed-by=/usr/share/keyrings/debian-buster-updates.gpg] http://deb.debian.org/debian buster-updates main\n",
    "deb [arch=amd64 signed-by=/usr/share/keyrings/debian-security-buster.gpg] http://deb.debian.org/debian-security buster/updates main\n",
    "EOF\n",
    "\n",
    "# Add keys\n",
    "apt-key adv --keyserver keyserver.ubuntu.com --recv-keys DCC9EFBF77E11517\n",
    "apt-key adv --keyserver keyserver.ubuntu.com --recv-keys 648ACFD622F3D138\n",
    "apt-key adv --keyserver keyserver.ubuntu.com --recv-keys 112695A0E562B32A\n",
    "\n",
    "apt-key export 77E11517 | gpg --dearmour -o /usr/share/keyrings/debian-buster.gpg\n",
    "apt-key export 22F3D138 | gpg --dearmour -o /usr/share/keyrings/debian-buster-updates.gpg\n",
    "apt-key export E562B32A | gpg --dearmour -o /usr/share/keyrings/debian-security-buster.gpg\n",
    "\n",
    "# Prefer debian repo for chromium* packages only\n",
    "# Note the double-blank lines between entries\n",
    "cat > /etc/apt/preferences.d/chromium.pref << 'EOF'\n",
    "Package: *\n",
    "Pin: release a=eoan\n",
    "Pin-Priority: 500\n",
    "\n",
    "\n",
    "Package: *\n",
    "Pin: origin \"deb.debian.org\"\n",
    "Pin-Priority: 300\n",
    "\n",
    "\n",
    "Package: chromium*\n",
    "Pin: origin \"deb.debian.org\"\n",
    "Pin-Priority: 700\n",
    "EOF"
   ]
  },
  {
   "cell_type": "markdown",
   "metadata": {
    "id": "afFoIXVNm2O6"
   },
   "source": [
    "### Instalação"
   ]
  },
  {
   "cell_type": "code",
   "execution_count": null,
   "metadata": {
    "id": "EmTBw-F1m1pp"
   },
   "outputs": [],
   "source": [
    "#!apt-get update\n",
    "#!apt-get install chromium chromium-driver\n",
    "#!pip3 install selenium"
   ]
  },
  {
   "cell_type": "markdown",
   "metadata": {
    "id": "89aQXGDznRLX"
   },
   "source": [
    "Você está fazendo um orçamento de um eletrodoméstico para uma escola pública. Faça um código em Python que faça uma pesquisa de preços."
   ]
  },
  {
   "cell_type": "code",
   "execution_count": null,
   "metadata": {
    "id": "LvzNoSkmk0R5"
   },
   "outputs": [],
   "source": [
    "from selenium import webdriver\n",
    "from selenium.webdriver.chrome.service import Service\n",
    "import time"
   ]
  },
  {
   "cell_type": "code",
   "execution_count": null,
   "metadata": {
    "colab": {
     "base_uri": "https://localhost:8080/"
    },
    "id": "mF_I2XstB_qK",
    "outputId": "df291b2d-e641-40ae-d523-40f02dc974e7"
   },
   "outputs": [],
   "source": [
    "url = \"<DIGITE O SITE AQUI>\"\n",
    "service = Service(executable_path=r'/usr/bin/chromedriver')\n",
    "options = webdriver.ChromeOptions()\n",
    "options.add_argument('--headless')\n",
    "options.add_argument('--no-sandbox')\n",
    "options.add_argument('--disable-dev-shm-usage')\n",
    "driver = webdriver.Chrome(service=service, options=options)\n",
    "driver.get(url)\n",
    "\n",
    "time.sleep(1) # esperar a página carregar\n",
    "\n",
    "# Exemplo 1: (imprimir o conteúdo da tag title da página)\n",
    "print(driver.title)\n",
    "driver.quit()"
   ]
  },
  {
   "cell_type": "code",
   "execution_count": null,
   "metadata": {
    "colab": {
     "base_uri": "https://localhost:8080/"
    },
    "id": "PX99fmXtCI-D",
    "outputId": "946c68c8-f8c0-415a-a8ff-c300b4542ff0"
   },
   "outputs": [],
   "source": [
    "url = \"<DIGITE O SITE AQUI>\"\n",
    "service = Service(executable_path=r'/usr/bin/chromedriver')\n",
    "options = webdriver.ChromeOptions()\n",
    "options.add_argument('--headless')\n",
    "options.add_argument('--no-sandbox')\n",
    "options.add_argument('--disable-dev-shm-usage')\n",
    "driver = webdriver.Chrome(service=service, options=options)\n",
    "driver.get(url)\n",
    "\n",
    "time.sleep(6) # esperar a página carregar\n",
    "\n",
    "# el = driver.find_element(\"xpath\", '/html/body/...')\n",
    "el = driver.find_element(\"xpath\", '//span[@atributo=\"valor\"]') # substitua atributo e valor\n",
    "print(el.text)\n",
    "\n",
    "driver.quit()"
   ]
  },
  {
   "cell_type": "code",
   "execution_count": null,
   "metadata": {
    "colab": {
     "base_uri": "https://localhost:8080/"
    },
    "id": "iFS6t_llHTCA",
    "outputId": "9af43a80-8825-4119-b2d3-00fe702eb3f8"
   },
   "outputs": [],
   "source": [
    "url = \"<DIGITE O SITE AQUI>\"\n",
    "service = Service(executable_path=r'/usr/bin/chromedriver')\n",
    "options = webdriver.ChromeOptions()\n",
    "options.add_argument('--headless')\n",
    "options.add_argument('--no-sandbox')\n",
    "options.add_argument('--disable-dev-shm-usage')\n",
    "driver = webdriver.Chrome(service=service, options=options)\n",
    "driver.get(url)\n",
    "\n",
    "time.sleep(6) # esperar a página carregar\n",
    "\n",
    "els = driver.find_elements(\"xpath\", '//span[@atributo=\"valor\"]')\n",
    "prods = []\n",
    "for el in els:\n",
    "    print(el.text)\n",
    "    prods.append(el.text)\n",
    "\n",
    "driver.quit()"
   ]
  },
  {
   "cell_type": "code",
   "execution_count": null,
   "metadata": {
    "colab": {
     "base_uri": "https://localhost:8080/"
    },
    "id": "PpaJyLA8Clpj",
    "outputId": "2c7d4968-1ccb-42cc-9a59-e20b6ae88978"
   },
   "outputs": [],
   "source": [
    "url = \"<DIGITE O SITE AQUI>\"\n",
    "service = Service(executable_path=r'/usr/bin/chromedriver')\n",
    "options = webdriver.ChromeOptions()\n",
    "options.add_argument('--headless')\n",
    "options.add_argument('--no-sandbox')\n",
    "options.add_argument('--disable-dev-shm-usage')\n",
    "driver = webdriver.Chrome(service=service, options=options)\n",
    "driver.get(url)\n",
    "\n",
    "time.sleep(6) # esperar a página carregar\n",
    "\n",
    "els = driver.find_elements(\"xpath\", '//span[@atributo=\"valor\"]')\n",
    "\n",
    "prices = []\n",
    "for el in els:\n",
    "    print(el.text)\n",
    "    prices.append(el.text)\n",
    "\n",
    "driver.quit()"
   ]
  },
  {
   "cell_type": "code",
   "execution_count": null,
   "metadata": {
    "colab": {
     "base_uri": "https://localhost:8080/"
    },
    "id": "i8C3-a0a0Q7a",
    "outputId": "6b13fadf-33e6-49fd-e6a7-e32a77b4f668"
   },
   "outputs": [],
   "source": [
    "print(len(prices))\n",
    "print(len(prods))"
   ]
  },
  {
   "cell_type": "markdown",
   "metadata": {
    "id": "Vkzeseja9iZC"
   },
   "source": [
    "## Built-in function open"
   ]
  },
  {
   "cell_type": "code",
   "execution_count": null,
   "metadata": {
    "id": "jqP9iYby0uaL"
   },
   "outputs": [],
   "source": [
    "f = open(\"orcamento.txt\", \"w\")\n",
    "for prod, price in zip(prods, prices):\n",
    "    f.write(prod + \" \" + price + \"\\n\")\n",
    "f.close()"
   ]
  },
  {
   "cell_type": "markdown",
   "metadata": {
    "id": "S2eZAx5f4tpV"
   },
   "source": [
    "## Criando  e salvando planilhas com Pandas"
   ]
  },
  {
   "cell_type": "markdown",
   "metadata": {
    "id": "7rXrJ7lv1OO0"
   },
   "source": [
    "A escola prefere o arquivo em excel. Faça uma planilha com o orçamento levantado."
   ]
  },
  {
   "cell_type": "code",
   "execution_count": null,
   "metadata": {
    "id": "Qxk-2rCH1OU3"
   },
   "outputs": [],
   "source": [
    "import pandas as pd\n",
    "\n",
    "planilha = pd.DataFrame({\n",
    "    \"Item\": prods,\n",
    "    \"Preço\": prices\n",
    "})\n",
    "\n",
    "planilha.to_excel(\"output.xlsx\")"
   ]
  },
  {
   "cell_type": "markdown",
   "metadata": {
    "id": "FRtr16fF4poV"
   },
   "source": [
    "## Manipulando dados de planilhas"
   ]
  },
  {
   "cell_type": "markdown",
   "metadata": {
    "id": "ctr3DQWD1OXu"
   },
   "source": [
    "A escola não esperava uma planilha tão grande e precisa agora saber qual produto é mais barato. Precisa novamente da sua ajuda."
   ]
  },
  {
   "cell_type": "code",
   "execution_count": null,
   "metadata": {
    "colab": {
     "base_uri": "https://localhost:8080/",
     "height": 206
    },
    "id": "bv_8idC91Oal",
    "outputId": "047ff7fb-fe35-4f0f-8749-57a12d0a1e8c"
   },
   "outputs": [],
   "source": [
    "planilha = pd.read_excel('output.xlsx', index_col=0)\n",
    "planilha.head(5)"
   ]
  },
  {
   "cell_type": "code",
   "execution_count": null,
   "metadata": {
    "id": "NUsTNdzS3B10"
   },
   "outputs": [],
   "source": [
    "def convert_price_to_float(price): # by chatGPT\n",
    "    # Remove the 'R$' from the price string\n",
    "    price = re.sub(r'R\\$ ', '', price)\n",
    "    # Replace the thousands separator '.' with nothing\n",
    "    price = re.sub(r'\\.', '', price)\n",
    "    # Replace the decimal separator ',' with '.'\n",
    "    price = re.sub(r',', '.', price)\n",
    "\n",
    "    return float(price)\n",
    "\n",
    "planilha['Preço'] = planilha['Preço'].map(convert_price_to_float)"
   ]
  },
  {
   "cell_type": "code",
   "execution_count": null,
   "metadata": {
    "colab": {
     "base_uri": "https://localhost:8080/",
     "height": 206
    },
    "id": "a0ylTmkm4YHb",
    "outputId": "67df243c-53e4-4692-e3aa-12c6dd3a5f75"
   },
   "outputs": [],
   "source": [
    "planilha.sort_values('Preço', ascending=True).head()"
   ]
  },
  {
   "cell_type": "code",
   "execution_count": null,
   "metadata": {
    "colab": {
     "base_uri": "https://localhost:8080/"
    },
    "id": "0M-dm7ge4_rF",
    "outputId": "0a9d171c-911f-419b-b564-dccae852f8b7"
   },
   "outputs": [],
   "source": [
    "median = planilha['Preço'].median()\n",
    "print(\"Preço mediano: \", median)"
   ]
  },
  {
   "cell_type": "markdown",
   "metadata": {
    "id": "TLlftym2Wnr8"
   },
   "source": [
    "## Instalando novas bibliotecas"
   ]
  },
  {
   "cell_type": "code",
   "execution_count": null,
   "metadata": {
    "colab": {
     "base_uri": "https://localhost:8080/"
    },
    "id": "IR2WqjwWSQVI",
    "outputId": "c1a83f74-b949-4010-c1ec-2ba67943ba41"
   },
   "outputs": [],
   "source": [
    "!pip install PyPDF2"
   ]
  },
  {
   "cell_type": "markdown",
   "metadata": {
    "id": "Eee5gbnX5l-2"
   },
   "source": [
    "## Lendo arquivos PDF's com PyPDF2"
   ]
  },
  {
   "cell_type": "markdown",
   "metadata": {
    "id": "604ETDCo7yOP"
   },
   "source": [
    "Você é novo no departamento jurídico da prefeitura de Uberlândia e precisa se informar sobre leis e decretos. Você pensou em começar a estudar os decretos mais comuns. Faça um programa em python que conte quantas vezes cada decreto é citado num diário oficial."
   ]
  },
  {
   "cell_type": "code",
   "execution_count": null,
   "metadata": {
    "id": "JHF8LoKaWkfj"
   },
   "outputs": [],
   "source": [
    "import PyPDF2\n",
    "\n",
    "def convert_pdf_to_txt(pdf_file_path, txt_file_path):\n",
    "    # Open the PDF file in binary mode\n",
    "    with open(pdf_file_path, 'rb') as pdf_file:\n",
    "        # Create a PDF file reader object\n",
    "        pdf_reader = PyPDF2.PdfReader(pdf_file)\n",
    "\n",
    "        # Initialize an empty string to hold the PDF content\n",
    "        pdf_content = ''\n",
    "\n",
    "        # Loop through each page in the PDF and extract the text\n",
    "        for page_num in range(len(pdf_reader.pages)):\n",
    "            page = pdf_reader.pages[page_num]\n",
    "            pdf_content += page.extract_text()\n",
    "\n",
    "    # Open the TXT file in write mode and write the PDF content\n",
    "    with open(txt_file_path, 'w') as txt_file:\n",
    "        txt_file.write(pdf_content)\n",
    "    return pdf_content\n",
    "\n",
    "# Usage\n",
    "pdf_content = convert_pdf_to_txt('udia_dou.pdf', 'output.txt')"
   ]
  },
  {
   "cell_type": "code",
   "execution_count": null,
   "metadata": {
    "colab": {
     "base_uri": "https://localhost:8080/"
    },
    "id": "ATVpa0MNZjVX",
    "outputId": "68b93480-14fe-456f-9928-e01471bab56a"
   },
   "outputs": [],
   "source": [
    "padrao = re.compile(r\"Decreto\\snº\\s\\d+\\.+\\d+\")\n",
    "decretos = re.findall(padrao, pdf_content)\n",
    "print(decretos)"
   ]
  },
  {
   "cell_type": "code",
   "execution_count": null,
   "metadata": {
    "id": "TFQTSJMi60yf"
   },
   "outputs": [],
   "source": [
    "planilha = pd.DataFrame({\n",
    "    \"Decreto\": decretos\n",
    "})"
   ]
  },
  {
   "cell_type": "code",
   "execution_count": null,
   "metadata": {
    "id": "hqEatIig8pb3"
   },
   "outputs": [],
   "source": [
    "def formata_decretos(decreto):\n",
    "    return decreto.replace(\"Decreto nº \", \"\")"
   ]
  },
  {
   "cell_type": "code",
   "execution_count": null,
   "metadata": {
    "id": "C5WsaYSJ8y1m"
   },
   "outputs": [],
   "source": [
    "planilha['Decreto'] = planilha['Decreto'].map(formata_decretos)"
   ]
  },
  {
   "cell_type": "code",
   "execution_count": null,
   "metadata": {
    "colab": {
     "base_uri": "https://localhost:8080/"
    },
    "id": "LIRmA5A385xY",
    "outputId": "99a28d60-37b1-4d06-cb71-865034c019b5"
   },
   "outputs": [],
   "source": [
    "planilha['Decreto'].value_counts()"
   ]
  },
  {
   "cell_type": "markdown",
   "metadata": {
    "id": "lbUeOj7AChHm"
   },
   "source": [
    "## Usando uma API de cores"
   ]
  },
  {
   "cell_type": "code",
   "execution_count": null,
   "metadata": {
    "id": "tctK4vAfCwse"
   },
   "outputs": [],
   "source": [
    "# https://curlconverter.com/\n",
    "# http://colormind.io/api-access/"
   ]
  },
  {
   "cell_type": "markdown",
   "metadata": {
    "id": "nnVWPoedC3-P"
   },
   "source": [
    "### GET"
   ]
  },
  {
   "cell_type": "code",
   "execution_count": null,
   "metadata": {
    "id": "kFgjnQxA88T_"
   },
   "outputs": [],
   "source": [
    "import requests\n",
    "\n",
    "headers = {\n",
    "    'Content-Type': 'application/x-www-form-urlencoded',\n",
    "}\n",
    "\n",
    "data = '{\"model\":\"default\"}'\n",
    "\n",
    "response = requests.post('http://colormind.io/api/', headers=headers, data=data)"
   ]
  },
  {
   "cell_type": "code",
   "execution_count": null,
   "metadata": {
    "id": "-o1F2b-x_hpj"
   },
   "outputs": [],
   "source": [
    "import matplotlib.pyplot as plt\n",
    "\n",
    "def mostrar_cores(response):\n",
    "    cores = []\n",
    "    for x in response.json()['result']:\n",
    "    cores.append(\"#{:0>2}{:0>2}{:0>2}\".format(\n",
    "        str(hex(x[0])).replace(\"0x\", \"\"),\n",
    "        str(hex(x[1])).replace(\"0x\", \"\"),\n",
    "        str(hex(x[2])).replace(\"0x\", \"\")\n",
    "    ))\n",
    "    print(response.json()['result'])\n",
    "    print(cores)\n",
    "    plt.figure(figsize=(2,2))\n",
    "    plt.bar([1,2,3,4,5], height=[5,5,5,5,5], color=cores)\n",
    "    plt.show()"
   ]
  },
  {
   "cell_type": "code",
   "execution_count": null,
   "metadata": {
    "colab": {
     "base_uri": "https://localhost:8080/",
     "height": 250
    },
    "id": "HIPIYWYY_Mor",
    "outputId": "59600997-9576-443a-cfff-da5cc48a8f94"
   },
   "outputs": [],
   "source": [
    "mostrar_cores(response)"
   ]
  },
  {
   "cell_type": "markdown",
   "metadata": {
    "id": "uarcW7glC6gn"
   },
   "source": [
    "### POST"
   ]
  },
  {
   "cell_type": "code",
   "execution_count": null,
   "metadata": {
    "id": "WVpXlGxLBrEm"
   },
   "outputs": [],
   "source": [
    "import requests\n",
    "\n",
    "headers = {\n",
    "    'Content-Type': 'application/x-www-form-urlencoded',\n",
    "}\n",
    "\n",
    "data = '{\"input\":[[104, 60, 77],[202, 112, 105],\"N\",\"N\",\"N\"],\"model\":\"default\"}'\n",
    "\n",
    "response = requests.post('http://colormind.io/api/', headers=headers, data=data)"
   ]
  },
  {
   "cell_type": "code",
   "execution_count": null,
   "metadata": {
    "colab": {
     "base_uri": "https://localhost:8080/",
     "height": 250
    },
    "id": "8cnCKNG4CZ1-",
    "outputId": "90fd4816-13a5-4dfa-8ab0-ba5adff66d63"
   },
   "outputs": [],
   "source": [
    "mostrar_cores(response)"
   ]
  },
  {
   "cell_type": "markdown",
   "metadata": {
    "id": "7Zhe-H8FIqDz"
   },
   "source": [
    "## Outro exemplo de API"
   ]
  },
  {
   "cell_type": "code",
   "execution_count": null,
   "metadata": {
    "colab": {
     "base_uri": "https://localhost:8080/"
    },
    "id": "3v_KLSPn-3h6",
    "outputId": "943a901a-08e5-4b7a-89ab-c8e34e9651d5"
   },
   "outputs": [],
   "source": [
    "import requests\n",
    "import json\n",
    "\n",
    "url = 'http://pokeapi.co/api/v1/pokemon/charizard/'\n",
    "response = requests.get(url)\n",
    "\n",
    "if response.status_code == 200:\n",
    "    data = json.loads(response.text)\n",
    "    print(data['name'])\n",
    "else:\n",
    "    print('An error occurred querying the API')"
   ]
  },
  {
   "cell_type": "code",
   "execution_count": null,
   "metadata": {
    "colab": {
     "base_uri": "https://localhost:8080/"
    },
    "id": "yJ1abH59Dg0v",
    "outputId": "d919182c-fe0c-4de2-c11b-de9631c7cb42"
   },
   "outputs": [],
   "source": [
    "data.keys()"
   ]
  },
  {
   "cell_type": "code",
   "execution_count": null,
   "metadata": {
    "colab": {
     "base_uri": "https://localhost:8080/",
     "height": 36
    },
    "id": "taBDXZgsD8Mn",
    "outputId": "bb3883d1-1272-485f-c5c6-301bf80681b5"
   },
   "outputs": [],
   "source": [
    "data['sprites']['front_default']"
   ]
  },
  {
   "cell_type": "code",
   "execution_count": null,
   "metadata": {
    "id": "74ouj32WD_pv"
   },
   "outputs": [],
   "source": []
  }
 ],
 "metadata": {
  "colab": {
   "provenance": []
  },
  "kernelspec": {
   "display_name": "Python 3 (ipykernel)",
   "language": "python",
   "name": "python3"
  },
  "language_info": {
   "codemirror_mode": {
    "name": "ipython",
    "version": 3
   },
   "file_extension": ".py",
   "mimetype": "text/x-python",
   "name": "python",
   "nbconvert_exporter": "python",
   "pygments_lexer": "ipython3",
   "version": "3.11.0"
  }
 },
 "nbformat": 4,
 "nbformat_minor": 1
}
