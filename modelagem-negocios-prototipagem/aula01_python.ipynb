{
  "nbformat": 4,
  "nbformat_minor": 0,
  "metadata": {
    "colab": {
      "provenance": []
    },
    "kernelspec": {
      "name": "python3",
      "display_name": "Python 3"
    },
    "language_info": {
      "name": "python"
    }
  },
  "cells": [
    {
      "cell_type": "markdown",
      "source": [
        "<h1>Aula 1 - Python</h1>\n",
        "\n",
        "<h2>Built-in functions</h2>"
      ],
      "metadata": {
        "id": "oIbwuh3itroB"
      }
    },
    {
      "cell_type": "code",
      "source": [
        "# input pede o usuário para digitar algo\n",
        "input(\"Digite seu nome: \")"
      ],
      "metadata": {
        "colab": {
          "base_uri": "https://localhost:8080/",
          "height": 52
        },
        "id": "eKsp9yYYvxZt",
        "outputId": "8bce4fc8-28ed-4754-e334-323e8b053f18"
      },
      "execution_count": null,
      "outputs": [
        {
          "name": "stdout",
          "output_type": "stream",
          "text": [
            "Digite seu nome: André Fulano\n"
          ]
        },
        {
          "output_type": "execute_result",
          "data": {
            "text/plain": [
              "'André Fulano'"
            ],
            "application/vnd.google.colaboratory.intrinsic+json": {
              "type": "string"
            }
          },
          "metadata": {},
          "execution_count": 4
        }
      ]
    },
    {
      "cell_type": "code",
      "source": [
        "# módulo de um número\n",
        "abs(-7)"
      ],
      "metadata": {
        "colab": {
          "base_uri": "https://localhost:8080/"
        },
        "id": "XGJAQMT2xjaY",
        "outputId": "1f36c0e8-cb01-4a13-9b1e-ecbf35842ff4"
      },
      "execution_count": null,
      "outputs": [
        {
          "output_type": "execute_result",
          "data": {
            "text/plain": [
              "7"
            ]
          },
          "metadata": {},
          "execution_count": 11
        }
      ]
    },
    {
      "cell_type": "code",
      "source": [
        "# imprime o objeto\n",
        "print(\"Olá mundo!\")"
      ],
      "metadata": {
        "colab": {
          "base_uri": "https://localhost:8080/"
        },
        "id": "oJp9qTrfyLdD",
        "outputId": "8255507f-eb73-4c7a-99b6-efdd527df63a"
      },
      "execution_count": null,
      "outputs": [
        {
          "output_type": "stream",
          "name": "stdout",
          "text": [
            "Olá mundo!\n"
          ]
        }
      ]
    },
    {
      "cell_type": "code",
      "source": [
        "# Vê o tipo do objeto\n",
        "type(-7)"
      ],
      "metadata": {
        "colab": {
          "base_uri": "https://localhost:8080/"
        },
        "id": "39wjdFTjzzuj",
        "outputId": "695cb598-a5be-4a7f-93d2-ed01ebb9de2b"
      },
      "execution_count": null,
      "outputs": [
        {
          "output_type": "execute_result",
          "data": {
            "text/plain": [
              "int"
            ]
          },
          "metadata": {},
          "execution_count": 15
        }
      ]
    },
    {
      "cell_type": "code",
      "source": [
        "# Vê o tipo do objeto\n",
        "type(\"Olá mundo!\")"
      ],
      "metadata": {
        "colab": {
          "base_uri": "https://localhost:8080/"
        },
        "id": "CDVHClLYzkt4",
        "outputId": "6d63bd2e-52b1-4b12-b240-8e2b4a8b0c59"
      },
      "execution_count": null,
      "outputs": [
        {
          "output_type": "execute_result",
          "data": {
            "text/plain": [
              "str"
            ]
          },
          "metadata": {},
          "execution_count": 20
        }
      ]
    },
    {
      "cell_type": "code",
      "source": [
        "# Mostra quantos iteraveis num  iteravel\n",
        "# Mostra quantas letras    numa string\n",
        "len(\"Leandro\")"
      ],
      "metadata": {
        "colab": {
          "base_uri": "https://localhost:8080/"
        },
        "id": "88EJwziJyVxW",
        "outputId": "6757d0ff-47ce-4b92-a2c1-6fd7acbb0f5c"
      },
      "execution_count": null,
      "outputs": [
        {
          "output_type": "execute_result",
          "data": {
            "text/plain": [
              "7"
            ]
          },
          "metadata": {},
          "execution_count": 21
        }
      ]
    },
    {
      "cell_type": "markdown",
      "source": [
        "<p><b>Exercício:</b> Faça um programa em python que conte o número de caracteres num texto</p>"
      ],
      "metadata": {
        "id": "lOuJI0hj1S29"
      }
    },
    {
      "cell_type": "code",
      "source": [
        "len(input(\"Digite seu texto: \"))"
      ],
      "metadata": {
        "colab": {
          "base_uri": "https://localhost:8080/"
        },
        "id": "ZW-dRitjzYC7",
        "outputId": "73766dcf-6a3b-4c46-aec5-053ee56d95e4"
      },
      "execution_count": null,
      "outputs": [
        {
          "name": "stdout",
          "output_type": "stream",
          "text": [
            "Digite seu texto: Lorem ipsum dolor sit amet, consectetur adipiscing elit. Vestibulum dolor libero, consectetur sed mauris eu, consectetur sagittis purus. Quisque lectus leo, ultrices a orci eu, dapibus placerat mauris. Pellentesque tempus magna ante, quis fringilla ipsum malesuada nec. Nulla sapien ante, ultricies vitae ipsum in, varius rutrum nibh. Sed augue enim, tincidunt vitae faucibus vel, venenatis vitae metus. In dictum vestibulum arcu ac aliquet. Phasellus sed lacinia velit. Fusce sed risus gravida, accumsan massa quis, sodales urna. Sed eget consectetur ligula. Fusce vel dolor id odio euismod tristique sit amet at odio. Nam ornare ipsum vitae neque vestibulum mollis.\n"
          ]
        },
        {
          "output_type": "execute_result",
          "data": {
            "text/plain": [
              "667"
            ]
          },
          "metadata": {},
          "execution_count": 22
        }
      ]
    },
    {
      "cell_type": "markdown",
      "source": [
        "<h2>Variáveis</h2>"
      ],
      "metadata": {
        "id": "legBkI032XtG"
      }
    },
    {
      "cell_type": "code",
      "source": [
        "meu_nome = \"Leandro\""
      ],
      "metadata": {
        "id": "n6JtVlJ42aP0"
      },
      "execution_count": null,
      "outputs": []
    },
    {
      "cell_type": "code",
      "source": [
        "print(meu_nome)"
      ],
      "metadata": {
        "colab": {
          "base_uri": "https://localhost:8080/"
        },
        "id": "1ATiln0S2uxu",
        "outputId": "f0320b9e-2696-41d5-b035-0b3fbe9cac78"
      },
      "execution_count": null,
      "outputs": [
        {
          "output_type": "stream",
          "name": "stdout",
          "text": [
            "Leandro\n"
          ]
        }
      ]
    },
    {
      "cell_type": "markdown",
      "source": [
        "<p><b>Exercício:</b> Faça um programa em python que conte o número de caracteres num texto usando o conceito de variáveis.</p>"
      ],
      "metadata": {
        "id": "Fg8xnLo63bBY"
      }
    },
    {
      "cell_type": "code",
      "source": [
        "# Lê o texto digitado\n",
        "texto = input(\"Digite seu texto: \")\n",
        "# Calcula o total de caracteres\n",
        "total_caracteres = len(texto)\n",
        "# Mostra o total de caracteres na tela\n",
        "print(total_caracteres)"
      ],
      "metadata": {
        "colab": {
          "base_uri": "https://localhost:8080/"
        },
        "id": "Ejq0vDtm3iTw",
        "outputId": "07306fb7-d2c2-4c6a-b994-ec32c627ba5a"
      },
      "execution_count": null,
      "outputs": [
        {
          "output_type": "stream",
          "name": "stdout",
          "text": [
            "Digite seu texto: Olá mundo\n",
            "9\n"
          ]
        }
      ]
    },
    {
      "cell_type": "markdown",
      "source": [
        "<h2>Objetos básicos e operadores</h2>"
      ],
      "metadata": {
        "id": "rmLP682k7sY1"
      }
    },
    {
      "cell_type": "code",
      "source": [
        "# inteiros\n",
        "num_alunos = 5\n",
        "num_alunas = 5\n",
        "total_estudantes = num_alunos + num_alunas\n",
        "print(total_estudantes)"
      ],
      "metadata": {
        "colab": {
          "base_uri": "https://localhost:8080/"
        },
        "id": "6XePj79z7wLi",
        "outputId": "590520d0-307c-4cf4-d12a-6d98036246c9"
      },
      "execution_count": null,
      "outputs": [
        {
          "output_type": "stream",
          "name": "stdout",
          "text": [
            "10\n"
          ]
        }
      ]
    },
    {
      "cell_type": "code",
      "source": [
        "type(num_alunos)"
      ],
      "metadata": {
        "colab": {
          "base_uri": "https://localhost:8080/"
        },
        "id": "q_XIuoCm8yZA",
        "outputId": "16554d37-b26d-4801-9fcd-915887c84002"
      },
      "execution_count": null,
      "outputs": [
        {
          "output_type": "execute_result",
          "data": {
            "text/plain": [
              "int"
            ]
          },
          "metadata": {},
          "execution_count": 34
        }
      ]
    },
    {
      "cell_type": "code",
      "source": [
        "# números flutuantes\n",
        "num_alunos = 5.0\n",
        "num_alunas = 5\n",
        "total_estudantes = num_alunos + num_alunas\n",
        "print(total_estudantes)"
      ],
      "metadata": {
        "colab": {
          "base_uri": "https://localhost:8080/"
        },
        "id": "KxkjM15e8EXj",
        "outputId": "a64d61e6-28cf-4a67-9a7b-291098c5d3ca"
      },
      "execution_count": null,
      "outputs": [
        {
          "output_type": "stream",
          "name": "stdout",
          "text": [
            "10.0\n"
          ]
        }
      ]
    },
    {
      "cell_type": "code",
      "source": [
        "type(num_alunos)"
      ],
      "metadata": {
        "colab": {
          "base_uri": "https://localhost:8080/"
        },
        "id": "fuMkcJjv9CcR",
        "outputId": "41bb4c60-d9ff-4192-b6dc-9a822788297d"
      },
      "execution_count": null,
      "outputs": [
        {
          "output_type": "execute_result",
          "data": {
            "text/plain": [
              "float"
            ]
          },
          "metadata": {},
          "execution_count": 36
        }
      ]
    },
    {
      "cell_type": "code",
      "source": [
        "# string\n",
        "x = \"UF\"\n",
        "y = \"TM\"\n",
        "universidade = x + y\n",
        "print(universidade)"
      ],
      "metadata": {
        "colab": {
          "base_uri": "https://localhost:8080/"
        },
        "id": "GR5GKd5V9Dz2",
        "outputId": "1494d890-4559-4fef-f58b-2573a553ce3d"
      },
      "execution_count": null,
      "outputs": [
        {
          "output_type": "stream",
          "name": "stdout",
          "text": [
            "UFTM\n"
          ]
        }
      ]
    },
    {
      "cell_type": "code",
      "source": [
        "type(x)"
      ],
      "metadata": {
        "colab": {
          "base_uri": "https://localhost:8080/"
        },
        "id": "pTM610nN_LB8",
        "outputId": "d6ecbffe-65eb-46a7-98eb-ae95c6d6d391"
      },
      "execution_count": null,
      "outputs": [
        {
          "output_type": "execute_result",
          "data": {
            "text/plain": [
              "str"
            ]
          },
          "metadata": {},
          "execution_count": 41
        }
      ]
    },
    {
      "cell_type": "code",
      "source": [
        "# Booleana\n",
        "verdadeiro = True\n",
        "falso = False\n",
        "resultado = verdadeiro and falso\n",
        "print(resultado)"
      ],
      "metadata": {
        "colab": {
          "base_uri": "https://localhost:8080/"
        },
        "id": "ACZQgM8g-WsA",
        "outputId": "82861a30-2dcb-4b5a-ff13-d8a05b3420d5"
      },
      "execution_count": null,
      "outputs": [
        {
          "output_type": "stream",
          "name": "stdout",
          "text": [
            "False\n"
          ]
        }
      ]
    },
    {
      "cell_type": "code",
      "source": [
        "type(verdadeiro)"
      ],
      "metadata": {
        "colab": {
          "base_uri": "https://localhost:8080/"
        },
        "id": "vH_hGMm7_NmZ",
        "outputId": "f7805231-634f-4b6c-ffa0-9cd4b33c28dd"
      },
      "execution_count": null,
      "outputs": [
        {
          "output_type": "execute_result",
          "data": {
            "text/plain": [
              "bool"
            ]
          },
          "metadata": {},
          "execution_count": 42
        }
      ]
    },
    {
      "cell_type": "markdown",
      "source": [
        "<h2>Objetos compostos e métodos</h2>"
      ],
      "metadata": {
        "id": "jmY9Lz4Z-sMm"
      }
    },
    {
      "cell_type": "code",
      "source": [
        "# lista\n",
        "frutas = [\"uva\", \"uva\", \"maça\", \"uva\"]"
      ],
      "metadata": {
        "id": "-WwOOWCA_F8D"
      },
      "execution_count": null,
      "outputs": []
    },
    {
      "cell_type": "code",
      "source": [
        "# ver os métodos do objeto frutas\n",
        "# métodos não começam com _\n",
        "dir(frutas)"
      ],
      "metadata": {
        "colab": {
          "base_uri": "https://localhost:8080/"
        },
        "id": "QSbHxwzO_35B",
        "outputId": "73eed9f9-e2b8-4907-948e-755da431bd77"
      },
      "execution_count": null,
      "outputs": [
        {
          "output_type": "execute_result",
          "data": {
            "text/plain": [
              "['__add__',\n",
              " '__class__',\n",
              " '__class_getitem__',\n",
              " '__contains__',\n",
              " '__delattr__',\n",
              " '__delitem__',\n",
              " '__dir__',\n",
              " '__doc__',\n",
              " '__eq__',\n",
              " '__format__',\n",
              " '__ge__',\n",
              " '__getattribute__',\n",
              " '__getitem__',\n",
              " '__gt__',\n",
              " '__hash__',\n",
              " '__iadd__',\n",
              " '__imul__',\n",
              " '__init__',\n",
              " '__init_subclass__',\n",
              " '__iter__',\n",
              " '__le__',\n",
              " '__len__',\n",
              " '__lt__',\n",
              " '__mul__',\n",
              " '__ne__',\n",
              " '__new__',\n",
              " '__reduce__',\n",
              " '__reduce_ex__',\n",
              " '__repr__',\n",
              " '__reversed__',\n",
              " '__rmul__',\n",
              " '__setattr__',\n",
              " '__setitem__',\n",
              " '__sizeof__',\n",
              " '__str__',\n",
              " '__subclasshook__',\n",
              " 'append',\n",
              " 'clear',\n",
              " 'copy',\n",
              " 'count',\n",
              " 'extend',\n",
              " 'index',\n",
              " 'insert',\n",
              " 'pop',\n",
              " 'remove',\n",
              " 'reverse',\n",
              " 'sort']"
            ]
          },
          "metadata": {},
          "execution_count": 48
        }
      ]
    },
    {
      "cell_type": "code",
      "source": [
        "type(frutas)"
      ],
      "metadata": {
        "colab": {
          "base_uri": "https://localhost:8080/"
        },
        "id": "oUcE5M-T_opp",
        "outputId": "103f58b2-90c5-4358-823e-e7424ea5f988"
      },
      "execution_count": null,
      "outputs": [
        {
          "output_type": "execute_result",
          "data": {
            "text/plain": [
              "list"
            ]
          },
          "metadata": {},
          "execution_count": 44
        }
      ]
    },
    {
      "cell_type": "code",
      "source": [
        "# usando o método count\n",
        "# objeto.metodo(parametro)\n",
        "frutas.count(\"uva\")"
      ],
      "metadata": {
        "colab": {
          "base_uri": "https://localhost:8080/"
        },
        "id": "t7eL9WUh_p74",
        "outputId": "e781ac6e-1900-4f98-d3b6-f85084dd99f1"
      },
      "execution_count": null,
      "outputs": [
        {
          "output_type": "execute_result",
          "data": {
            "text/plain": [
              "3"
            ]
          },
          "metadata": {},
          "execution_count": 49
        }
      ]
    },
    {
      "cell_type": "code",
      "source": [
        "# ordenar uma lista em ordem alfabética\n",
        "frutas.sort()\n",
        "frutas"
      ],
      "metadata": {
        "id": "gIiUFAJdA7MD"
      },
      "execution_count": null,
      "outputs": []
    },
    {
      "cell_type": "markdown",
      "source": [
        "<p><b>Exercício: </b> Ordene a lista a seguir em ordem alfabética."
      ],
      "metadata": {
        "id": "nrBv5AYKBcYV"
      }
    },
    {
      "cell_type": "markdown",
      "source": [
        "<ul class=\"i8Z77e\"><li class=\"TrT0Xe\">Miguel.</li><li class=\"TrT0Xe\">Arthur.</li><li class=\"TrT0Xe\">Gael.</li><li class=\"TrT0Xe\">Théo.</li><li class=\"TrT0Xe\">Heitor.</li><li class=\"TrT0Xe\">Ravi.</li><li class=\"TrT0Xe\">Davi.</li><li class=\"TrT0Xe\">Bernardo.</li></ul>"
      ],
      "metadata": {
        "id": "YQDBW-rEA98H"
      }
    },
    {
      "cell_type": "code",
      "source": [
        "nomes = [\n",
        "    \"Miguel\", \"Arthur\", \"Gael\",\n",
        "    \"Théo\", \"Heitor\", \"Ravi\",\n",
        "    \"Davi\", \"Bernardo\"]\n",
        "nomes.sort()\n",
        "print(nomes)"
      ],
      "metadata": {
        "colab": {
          "base_uri": "https://localhost:8080/"
        },
        "id": "636S8d2YBa28",
        "outputId": "94d18ee3-d8e5-4683-dcab-9a29ad8db3fb"
      },
      "execution_count": null,
      "outputs": [
        {
          "output_type": "stream",
          "name": "stdout",
          "text": [
            "['Arthur', 'Bernardo', 'Davi', 'Gael', 'Heitor', 'Miguel', 'Ravi', 'Théo']\n"
          ]
        }
      ]
    },
    {
      "cell_type": "markdown",
      "source": [
        "<p><b>Exercício: </b> Calcule a média de uma lista de números inteiros digitados pelo usuário</p>"
      ],
      "metadata": {
        "id": "kwRAsRYfEECw"
      }
    },
    {
      "cell_type": "code",
      "source": [
        "# Ler os números digitados\n",
        "nums = input(\"Digite os inteiros entre vírgulas: \")\n",
        "# converter a string lida em lista\n",
        "lista = nums.split(\",\")\n",
        "# converter as strings da lista em inteiros\n",
        "lista_inteiros = [int(n) for n in lista]\n",
        "# armazenar o total de números digitados\n",
        "total_nums = len(lista_inteiros)\n",
        "# armazenar a soma dos números digitados\n",
        "soma_nums = sum(lista_inteiros)\n",
        "# dividir a soma pelo total\n",
        "resultado = soma_nums / total_nums\n",
        "# mostrar o resultado\n",
        "print(resultado)"
      ],
      "metadata": {
        "colab": {
          "base_uri": "https://localhost:8080/"
        },
        "id": "X584ucg2DmnE",
        "outputId": "7fb3f26c-6c4d-4b65-ce5d-adc9eb2b8705"
      },
      "execution_count": null,
      "outputs": [
        {
          "output_type": "stream",
          "name": "stdout",
          "text": [
            "Digite os inteiros entre vírgulas: 2,3,7\n",
            "4.0\n"
          ]
        }
      ]
    },
    {
      "cell_type": "code",
      "source": [
        "numeros = input(\"Digite uma lista de números inteiros separados por vírgula: \")\n",
        "lista_numeros = numeros.split(\",\")\n",
        "\n",
        "# Converte a lista de strings para uma lista de inteiros\n",
        "lista_numeros = list(map(int, lista_numeros))\n",
        "\n",
        "soma = sum(lista_numeros)\n",
        "media = soma / len(lista_numeros)\n",
        "print(\"A média dos números é:\", media)"
      ],
      "metadata": {
        "colab": {
          "base_uri": "https://localhost:8080/"
        },
        "id": "nIdnj2DyE-mG",
        "outputId": "0344eea2-e036-4168-c409-4ce36a1dd109"
      },
      "execution_count": null,
      "outputs": [
        {
          "output_type": "stream",
          "name": "stdout",
          "text": [
            "Digite uma lista de números inteiros separados por vírgula: 2,3,7\n",
            "A média dos números é: 4.0\n"
          ]
        }
      ]
    },
    {
      "cell_type": "code",
      "source": [
        "# dicionários\n",
        "notas = {\"Bob\":7, \"Ana\":8, \"Ted\":9}"
      ],
      "metadata": {
        "id": "PsE_jHQRFuqo"
      },
      "execution_count": null,
      "outputs": []
    },
    {
      "cell_type": "code",
      "source": [
        "# Mostra o tipo do objeto\n",
        "type(notas)"
      ],
      "metadata": {
        "colab": {
          "base_uri": "https://localhost:8080/"
        },
        "id": "daijHAQoJg-k",
        "outputId": "6fbafc65-7d49-4372-d0a6-3b3501a3dbb7"
      },
      "execution_count": null,
      "outputs": [
        {
          "output_type": "execute_result",
          "data": {
            "text/plain": [
              "dict"
            ]
          },
          "metadata": {},
          "execution_count": 65
        }
      ]
    },
    {
      "cell_type": "code",
      "source": [
        "# Vê os metódos de um objeto\n",
        "dir(notas)"
      ],
      "metadata": {
        "colab": {
          "base_uri": "https://localhost:8080/"
        },
        "id": "88n2Qm2NJjUa",
        "outputId": "729f533f-599a-4201-c25e-43ef8677fbbb"
      },
      "execution_count": null,
      "outputs": [
        {
          "output_type": "execute_result",
          "data": {
            "text/plain": [
              "['__class__',\n",
              " '__class_getitem__',\n",
              " '__contains__',\n",
              " '__delattr__',\n",
              " '__delitem__',\n",
              " '__dir__',\n",
              " '__doc__',\n",
              " '__eq__',\n",
              " '__format__',\n",
              " '__ge__',\n",
              " '__getattribute__',\n",
              " '__getitem__',\n",
              " '__gt__',\n",
              " '__hash__',\n",
              " '__init__',\n",
              " '__init_subclass__',\n",
              " '__ior__',\n",
              " '__iter__',\n",
              " '__le__',\n",
              " '__len__',\n",
              " '__lt__',\n",
              " '__ne__',\n",
              " '__new__',\n",
              " '__or__',\n",
              " '__reduce__',\n",
              " '__reduce_ex__',\n",
              " '__repr__',\n",
              " '__reversed__',\n",
              " '__ror__',\n",
              " '__setattr__',\n",
              " '__setitem__',\n",
              " '__sizeof__',\n",
              " '__str__',\n",
              " '__subclasshook__',\n",
              " 'clear',\n",
              " 'copy',\n",
              " 'fromkeys',\n",
              " 'get',\n",
              " 'items',\n",
              " 'keys',\n",
              " 'pop',\n",
              " 'popitem',\n",
              " 'setdefault',\n",
              " 'update',\n",
              " 'values']"
            ]
          },
          "metadata": {},
          "execution_count": 66
        }
      ]
    },
    {
      "cell_type": "code",
      "source": [
        "# método keys de dicionário\n",
        "notas.keys()"
      ],
      "metadata": {
        "colab": {
          "base_uri": "https://localhost:8080/"
        },
        "id": "2tXIK3S2Jpsg",
        "outputId": "7b241a39-b814-4584-dd45-ba2ebacff108"
      },
      "execution_count": null,
      "outputs": [
        {
          "output_type": "execute_result",
          "data": {
            "text/plain": [
              "dict_keys(['Bob', 'Ana', 'Ted'])"
            ]
          },
          "metadata": {},
          "execution_count": 67
        }
      ]
    },
    {
      "cell_type": "code",
      "source": [
        "# método values de dicionário\n",
        "notas.values()"
      ],
      "metadata": {
        "colab": {
          "base_uri": "https://localhost:8080/"
        },
        "id": "oOX4SNckJ5nn",
        "outputId": "027e1111-65b9-49c8-bf87-e93efa769c03"
      },
      "execution_count": null,
      "outputs": [
        {
          "output_type": "execute_result",
          "data": {
            "text/plain": [
              "dict_values([7, 8, 9])"
            ]
          },
          "metadata": {},
          "execution_count": 68
        }
      ]
    },
    {
      "cell_type": "markdown",
      "source": [
        "<p><b>Exercício: </b> Considere o dicionário abaixo. Supondo que João comprou 3 Hot Dogs, 1 batata frita e 2 refrigerantes, quanto João pagou?</p>"
      ],
      "metadata": {
        "id": "83Vh-9m4LfQH"
      }
    },
    {
      "cell_type": "code",
      "source": [
        "precos = {\n",
        "    \"Hot Dog\": 5,\n",
        "    \"Batata frita\": 12,\n",
        "    \"Refrigerante\": 4,\n",
        "    \"Cerveja\": 5\n",
        "}"
      ],
      "metadata": {
        "id": "ioc3MxZdLdm4"
      },
      "execution_count": null,
      "outputs": []
    },
    {
      "cell_type": "code",
      "source": [
        "total = 0\n",
        "# somar hot dogs\n",
        "total = total + 3*precos[\"Hot Dog\"]\n",
        "# somar batata frita\n",
        "total = total + 1*precos[\"Batata frita\"]\n",
        "# somar refrigerante\n",
        "total = total + 2*precos[\"Refrigerante\"]\n",
        "# Mostrar total\n",
        "print(total)"
      ],
      "metadata": {
        "colab": {
          "base_uri": "https://localhost:8080/"
        },
        "id": "Eaaf-tmJMNbG",
        "outputId": "d778ba6d-ee6a-48af-c736-d63f11b0c775"
      },
      "execution_count": null,
      "outputs": [
        {
          "output_type": "stream",
          "name": "stdout",
          "text": [
            "35\n"
          ]
        }
      ]
    },
    {
      "cell_type": "code",
      "source": [
        "precos = {\n",
        "    \"Hot Dog\": {\n",
        "        \"codigo\": \"0001\",\n",
        "        \"valor\": 5,\n",
        "        \"estoque\": 120\n",
        "    },\n",
        "    \"Batata frita\": 12,\n",
        "    \"Refrigerante\": 4,\n",
        "    \"Cerveja\": 5\n",
        "}"
      ],
      "metadata": {
        "id": "lwtd7CIHM6GL"
      },
      "execution_count": null,
      "outputs": []
    },
    {
      "cell_type": "code",
      "source": [
        "precos[\"Hot Dog\"][\"valor\"]"
      ],
      "metadata": {
        "colab": {
          "base_uri": "https://localhost:8080/"
        },
        "id": "-yL16fj8NSef",
        "outputId": "8bffeb77-0486-4bc4-ff80-5d7ce55a928d"
      },
      "execution_count": null,
      "outputs": [
        {
          "output_type": "execute_result",
          "data": {
            "text/plain": [
              "5"
            ]
          },
          "metadata": {},
          "execution_count": 73
        }
      ]
    },
    {
      "cell_type": "code",
      "source": [],
      "metadata": {
        "id": "PF2tb7aCNUkg"
      },
      "execution_count": null,
      "outputs": []
    }
  ]
}