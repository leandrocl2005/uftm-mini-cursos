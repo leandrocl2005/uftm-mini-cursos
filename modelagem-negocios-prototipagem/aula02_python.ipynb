{
  "nbformat": 4,
  "nbformat_minor": 0,
  "metadata": {
    "colab": {
      "provenance": []
    },
    "kernelspec": {
      "name": "python3",
      "display_name": "Python 3"
    },
    "language_info": {
      "name": "python"
    }
  },
  "cells": [
    {
      "cell_type": "markdown",
      "source": [
        "<h1>Revisão da aula passada</h1>"
      ],
      "metadata": {
        "id": "WlWkOa5I-mWn"
      }
    },
    {
      "cell_type": "markdown",
      "source": [
        "<h3>Built-in functions</h3>"
      ],
      "metadata": {
        "id": "wddCNTh0-dQY"
      }
    },
    {
      "cell_type": "code",
      "source": [
        "max([2,7,3,1,2,8,1,5,6])"
      ],
      "metadata": {
        "colab": {
          "base_uri": "https://localhost:8080/"
        },
        "id": "AjNROcbL-pO5",
        "outputId": "074f1f09-b1ff-41e2-e4bd-f02519e2fe1d"
      },
      "execution_count": null,
      "outputs": [
        {
          "output_type": "execute_result",
          "data": {
            "text/plain": [
              "8"
            ]
          },
          "metadata": {},
          "execution_count": 1
        }
      ]
    },
    {
      "cell_type": "markdown",
      "source": [
        "<h3>Variáveis</h3>"
      ],
      "metadata": {
        "id": "RgGN20xV_ZSY"
      }
    },
    {
      "cell_type": "code",
      "source": [
        "cardapio = {\n",
        "    \"hot dog\": 5,\n",
        "    \"guarana\": 4}"
      ],
      "metadata": {
        "id": "--OfvewE_cWK"
      },
      "execution_count": null,
      "outputs": []
    },
    {
      "cell_type": "code",
      "source": [
        "cardapio[\"hot dog\"]"
      ],
      "metadata": {
        "colab": {
          "base_uri": "https://localhost:8080/"
        },
        "id": "wwL5kfyz_ybU",
        "outputId": "28d18bfd-a3a4-4526-8328-39870e4e92bb"
      },
      "execution_count": null,
      "outputs": [
        {
          "output_type": "execute_result",
          "data": {
            "text/plain": [
              "5"
            ]
          },
          "metadata": {},
          "execution_count": 3
        }
      ]
    },
    {
      "cell_type": "markdown",
      "source": [
        "<h3>Objetos simples e operadores</h3>"
      ],
      "metadata": {
        "id": "DM_KOPuuAJZS"
      }
    },
    {
      "cell_type": "code",
      "source": [
        "# string, inteiros, flutuantes, boleanos\n",
        "saldo = 3000\n",
        "juros = 0.12\n",
        "total = saldo * (1 + juros)\n",
        "total = round(total, 2)\n",
        "print(total)"
      ],
      "metadata": {
        "colab": {
          "base_uri": "https://localhost:8080/"
        },
        "id": "jlzXFtp2_1lw",
        "outputId": "a4e97485-eee5-4e77-a1d0-7f7ec73d92ac"
      },
      "execution_count": null,
      "outputs": [
        {
          "output_type": "stream",
          "name": "stdout",
          "text": [
            "3360.0\n"
          ]
        }
      ]
    },
    {
      "cell_type": "markdown",
      "source": [
        "<h3>Objetos compostos e métodos</h3>"
      ],
      "metadata": {
        "id": "mkXFE-IJBV8F"
      }
    },
    {
      "cell_type": "code",
      "source": [
        "# listas, dicionários\n",
        "compras = [\"sabao\", \"cafe\", \"manteiga\"]"
      ],
      "metadata": {
        "id": "FIXq_CIhBdUq"
      },
      "execution_count": null,
      "outputs": []
    },
    {
      "cell_type": "code",
      "source": [
        "compras.remove(\"cafe\")"
      ],
      "metadata": {
        "id": "0mKbZSBvBqQu"
      },
      "execution_count": null,
      "outputs": []
    },
    {
      "cell_type": "code",
      "source": [
        "print(compras)"
      ],
      "metadata": {
        "colab": {
          "base_uri": "https://localhost:8080/"
        },
        "id": "2mHzwB3mB0PE",
        "outputId": "dd17023e-bb6d-4cea-a608-85f5075b3e00"
      },
      "execution_count": null,
      "outputs": [
        {
          "output_type": "stream",
          "name": "stdout",
          "text": [
            "['sabao', 'manteiga']\n"
          ]
        }
      ]
    },
    {
      "cell_type": "code",
      "source": [
        "compras.append(\"pão\")"
      ],
      "metadata": {
        "id": "G0qhp2dOBsdP"
      },
      "execution_count": null,
      "outputs": []
    },
    {
      "cell_type": "code",
      "source": [
        "print(compras)"
      ],
      "metadata": {
        "colab": {
          "base_uri": "https://localhost:8080/"
        },
        "id": "FolwoUu1CEyx",
        "outputId": "b6edf9d4-7ebe-41ac-bb17-337927d6b886"
      },
      "execution_count": null,
      "outputs": [
        {
          "output_type": "stream",
          "name": "stdout",
          "text": [
            "['sabao', 'manteiga', 'pão']\n"
          ]
        }
      ]
    },
    {
      "cell_type": "markdown",
      "source": [
        "<p><b>Exercício:</b> Os funcionários de uma empresa receberam 15% de aumento. Faça um programa em Python que pede para o usuário digitar o salário e, então, imprima o salário ajustado.</p>"
      ],
      "metadata": {
        "id": "vw7huwYrCut5"
      }
    },
    {
      "cell_type": "code",
      "source": [
        "# pedir para o funcionário digitar salário\n",
        "salario_antigo = input(\"Digite seu salário \")\n",
        "# transformar a string em número\n",
        "salario_antigo = float(salario_antigo)\n",
        "# aplicar o aumento\n",
        "salario_novo = salario_antigo * 1.15\n",
        "# arredondar 2 casas\n",
        "salario_novo = round(salario_novo, 2)\n",
        "# mostrar o salário ajustado\n",
        "print(salario_novo)"
      ],
      "metadata": {
        "colab": {
          "base_uri": "https://localhost:8080/"
        },
        "id": "Q_TM4WXdDtjF",
        "outputId": "e788dbd2-7372-4277-d9b3-bed219fd743a"
      },
      "execution_count": null,
      "outputs": [
        {
          "output_type": "stream",
          "name": "stdout",
          "text": [
            "Digite seu salário 3000\n",
            "3450.0\n"
          ]
        }
      ]
    },
    {
      "cell_type": "markdown",
      "source": [
        "<h1>Aula 2 - Python</h1>"
      ],
      "metadata": {
        "id": "rDteW6ufB9Ww"
      }
    },
    {
      "cell_type": "markdown",
      "source": [
        "<h2>Funções</h2>"
      ],
      "metadata": {
        "id": "UT7icBzQE99Y"
      }
    },
    {
      "cell_type": "code",
      "source": [
        "def reajusta_salario(valor):\n",
        "  resultado = valor * 1.15\n",
        "  return resultado"
      ],
      "metadata": {
        "id": "nrI5jIs0Cod8"
      },
      "execution_count": null,
      "outputs": []
    },
    {
      "cell_type": "code",
      "source": [
        "reajusta_salario(2000)"
      ],
      "metadata": {
        "colab": {
          "base_uri": "https://localhost:8080/"
        },
        "id": "VyvPbzR4Fsgf",
        "outputId": "0418c51a-360e-4ca3-dc04-7193aab485b4"
      },
      "execution_count": null,
      "outputs": [
        {
          "output_type": "execute_result",
          "data": {
            "text/plain": [
              "2300.0"
            ]
          },
          "metadata": {},
          "execution_count": 19
        }
      ]
    },
    {
      "cell_type": "code",
      "source": [
        "reajusta_salario(5000)"
      ],
      "metadata": {
        "colab": {
          "base_uri": "https://localhost:8080/"
        },
        "id": "5PGqdhCGFzU_",
        "outputId": "a58c8eb4-6cc5-4176-a81a-adac75df8528"
      },
      "execution_count": null,
      "outputs": [
        {
          "output_type": "execute_result",
          "data": {
            "text/plain": [
              "5750.0"
            ]
          },
          "metadata": {},
          "execution_count": 20
        }
      ]
    },
    {
      "cell_type": "code",
      "source": [
        "def calcula_imc(altura, peso):\n",
        "  resultado = peso / (altura ** 2)\n",
        "  resultado = round(resultado, 2)\n",
        "  return resultado"
      ],
      "metadata": {
        "id": "wnfyZ5cJGOFV"
      },
      "execution_count": null,
      "outputs": []
    },
    {
      "cell_type": "code",
      "source": [
        "imc_leandro = calcula_imc(1.64, 64)"
      ],
      "metadata": {
        "id": "rsq1i_SuGgyG"
      },
      "execution_count": null,
      "outputs": []
    },
    {
      "cell_type": "code",
      "source": [
        "print(imc_leandro)"
      ],
      "metadata": {
        "colab": {
          "base_uri": "https://localhost:8080/"
        },
        "id": "IiW009QJGp_7",
        "outputId": "93035375-1b7e-4c2b-c83c-933d6b0212fd"
      },
      "execution_count": null,
      "outputs": [
        {
          "output_type": "stream",
          "name": "stdout",
          "text": [
            "23.8\n"
          ]
        }
      ]
    },
    {
      "cell_type": "code",
      "source": [
        "def calcular_dias(numero_anos):\n",
        "    dias = numero_anos * 365\n",
        "    return dias\n",
        "\n",
        "# Exemplo de uso da função:\n",
        "anos = int(input(\"Digite o número de anos: \"))\n",
        "resultado = calcular_dias(anos)\n",
        "print(\"O número de dias é:\", resultado)"
      ],
      "metadata": {
        "colab": {
          "base_uri": "https://localhost:8080/"
        },
        "id": "1RvZu0JMHT9q",
        "outputId": "20217f2c-b6ec-4362-82bb-f2555bf946fd"
      },
      "execution_count": null,
      "outputs": [
        {
          "output_type": "stream",
          "name": "stdout",
          "text": [
            "Digite o número de anos: 2\n",
            "O número de dias é: 730\n"
          ]
        }
      ]
    },
    {
      "cell_type": "code",
      "source": [
        "def calcular_dias(numero_anos):\n",
        "    dias = numero_anos * 365\n",
        "    dias += numero_anos // 4 - numero_anos // 100 + numero_anos // 400\n",
        "    return dias\n",
        "\n",
        "# Exemplo de uso da função:\n",
        "anos = int(input(\"Digite o número de anos: \"))\n",
        "resultado = calcular_dias(anos)\n",
        "print(\"O número de dias é:\", resultado)"
      ],
      "metadata": {
        "colab": {
          "base_uri": "https://localhost:8080/"
        },
        "id": "cR47WbnQIKNG",
        "outputId": "5fe5ff90-7405-42f7-d64a-5a2033313599"
      },
      "execution_count": null,
      "outputs": [
        {
          "output_type": "stream",
          "name": "stdout",
          "text": [
            "Digite o número de anos: 10\n",
            "O número de dias é: 3652\n"
          ]
        }
      ]
    },
    {
      "cell_type": "markdown",
      "source": [
        "<h2>Bibliotecas</h2>"
      ],
      "metadata": {
        "id": "0UUI76rUIbyD"
      }
    },
    {
      "cell_type": "code",
      "source": [
        "import random"
      ],
      "metadata": {
        "id": "FOiBYiNnIa5i"
      },
      "execution_count": null,
      "outputs": []
    },
    {
      "cell_type": "code",
      "source": [
        "def joga_dado():\n",
        "  dado = [1,2,3,4,5,6]\n",
        "  resultado = random.choice(dado)\n",
        "  return resultado"
      ],
      "metadata": {
        "id": "ai9qJmRRI2Yg"
      },
      "execution_count": null,
      "outputs": []
    },
    {
      "cell_type": "code",
      "source": [
        "joga_dado()"
      ],
      "metadata": {
        "colab": {
          "base_uri": "https://localhost:8080/"
        },
        "id": "zWeRPO5eJUJX",
        "outputId": "2e3ae9e5-02f7-452d-88a7-7e00236898c3"
      },
      "execution_count": null,
      "outputs": [
        {
          "output_type": "execute_result",
          "data": {
            "text/plain": [
              "5"
            ]
          },
          "metadata": {},
          "execution_count": 35
        }
      ]
    },
    {
      "cell_type": "code",
      "source": [
        "joga_dado()"
      ],
      "metadata": {
        "colab": {
          "base_uri": "https://localhost:8080/"
        },
        "id": "QWpILcTvJXDF",
        "outputId": "08764a38-f961-4b30-ab54-3bfc22c1da09"
      },
      "execution_count": null,
      "outputs": [
        {
          "output_type": "execute_result",
          "data": {
            "text/plain": [
              "6"
            ]
          },
          "metadata": {},
          "execution_count": 36
        }
      ]
    },
    {
      "cell_type": "code",
      "source": [
        "from random import choice"
      ],
      "metadata": {
        "id": "Poi5DFZUKOB9"
      },
      "execution_count": null,
      "outputs": []
    },
    {
      "cell_type": "code",
      "source": [
        "def joga_pedra_papel_tesoura():\n",
        "  opcoes = [\"pedra\", \"papel\", \"tesoura\"]\n",
        "  resultado = choice(opcoes)\n",
        "  return resultado"
      ],
      "metadata": {
        "id": "Xhf9m2yFKR4X"
      },
      "execution_count": null,
      "outputs": []
    },
    {
      "cell_type": "code",
      "source": [
        "joga_pedra_papel_tesoura()"
      ],
      "metadata": {
        "colab": {
          "base_uri": "https://localhost:8080/",
          "height": 36
        },
        "id": "1X1gM-OqKgdW",
        "outputId": "4afc5d99-151e-4cc2-83d3-1b6ed06cdb57"
      },
      "execution_count": null,
      "outputs": [
        {
          "output_type": "execute_result",
          "data": {
            "text/plain": [
              "'papel'"
            ],
            "application/vnd.google.colaboratory.intrinsic+json": {
              "type": "string"
            }
          },
          "metadata": {},
          "execution_count": 41
        }
      ]
    },
    {
      "cell_type": "code",
      "source": [
        "# calcula o fatorial de 12\n",
        "import math as mt\n",
        "mt.factorial(12)"
      ],
      "metadata": {
        "colab": {
          "base_uri": "https://localhost:8080/"
        },
        "id": "84U4-dIxKibG",
        "outputId": "34cec36d-187b-496b-e79f-d83de8c92abe"
      },
      "execution_count": null,
      "outputs": [
        {
          "output_type": "execute_result",
          "data": {
            "text/plain": [
              "479001600"
            ]
          },
          "metadata": {},
          "execution_count": 42
        }
      ]
    },
    {
      "cell_type": "markdown",
      "source": [
        "<h2>Estrutura de repetição</h2>"
      ],
      "metadata": {
        "id": "nQZMZqH1Lbbh"
      }
    },
    {
      "cell_type": "markdown",
      "source": [
        "<h3>while</h3>"
      ],
      "metadata": {
        "id": "KsIgQg31YAbH"
      }
    },
    {
      "cell_type": "code",
      "source": [
        "numero_digitado = input(\"Digite um Nº: \")\n",
        "while numero_digitado != \"13\":\n",
        "  print(\"Não é esse!\")\n",
        "  numero_digitado = input(\"Digite um Nº: \")\n",
        "print(\"Acertou!\")"
      ],
      "metadata": {
        "colab": {
          "base_uri": "https://localhost:8080/"
        },
        "id": "-RGBakXBX_On",
        "outputId": "50e6c755-507f-44b7-f966-659b61baeb7d"
      },
      "execution_count": null,
      "outputs": [
        {
          "output_type": "stream",
          "name": "stdout",
          "text": [
            "Digite um Nº: 5\n",
            "Não é esse!\n",
            "Digite um Nº: 6\n",
            "Não é esse!\n",
            "Digite um Nº: 10\n",
            "Não é esse!\n",
            "Digite um Nº: 13\n",
            "Acertou!\n"
          ]
        }
      ]
    },
    {
      "cell_type": "code",
      "source": [
        "opcoes = list(range(1, 101, 1))\n",
        "numero_correto = random.choice(opcoes)\n",
        "print(numero_correto)\n",
        "numero_correto = str(numero_correto)\n",
        "numero_digitado = input(\"Digite um Nº: \")\n",
        "while numero_digitado != numero_correto:\n",
        "  print(\"Não é esse!\")\n",
        "  numero_digitado = input(\"Digite um Nº: \")\n",
        "print(\"Acertou!\")"
      ],
      "metadata": {
        "colab": {
          "base_uri": "https://localhost:8080/"
        },
        "id": "w4FPZrsDZVOK",
        "outputId": "bc52907a-cb22-4898-9d8c-39ef02614539"
      },
      "execution_count": null,
      "outputs": [
        {
          "output_type": "stream",
          "name": "stdout",
          "text": [
            "93\n",
            "Digite um Nº: 92\n",
            "Não é esse!\n",
            "Digite um Nº: 93\n",
            "Acertou!\n"
          ]
        }
      ]
    },
    {
      "cell_type": "code",
      "source": [
        "opcoes = list(range(1, 101, 1))\n",
        "numero_correto = random.choice(opcoes)\n",
        "print(numero_correto)\n",
        "numero_digitado = int(input(\"Digite um Nº: \"))\n",
        "while numero_digitado != numero_correto:\n",
        "  print(\"Não é esse!\")\n",
        "  if numero_digitado > numero_correto:\n",
        "    print(\"Tente um menor!\")\n",
        "  else:\n",
        "    print(\"Tente um maior!\")\n",
        "  numero_digitado = int(input(\"Digite um Nº: \"))\n",
        "print(\"Acertou!\")"
      ],
      "metadata": {
        "colab": {
          "base_uri": "https://localhost:8080/"
        },
        "id": "bPXLhQgtbkDU",
        "outputId": "36d6626e-1f30-48e1-ca3d-abd05c58160f"
      },
      "execution_count": null,
      "outputs": [
        {
          "output_type": "stream",
          "name": "stdout",
          "text": [
            "77\n",
            "Digite um Nº: 8\n",
            "Não é esse!\n",
            "Tente um maior!\n",
            "Digite um Nº: 77\n",
            "Acertou!\n"
          ]
        }
      ]
    },
    {
      "cell_type": "code",
      "source": [
        "import random\n",
        "\n",
        "numero_pensado = random.randint(1, 100)\n",
        "tentativas = 0\n",
        "\n",
        "print(\"Bem-vindo ao jogo de adivinhação!\")\n",
        "print(\"Tente adivinhar o número que estou pensando, que está entre 1 e 100.\")\n",
        "\n",
        "while True:\n",
        "    tentativa = int(input(\"Digite um número: \"))\n",
        "    tentativas += 1\n",
        "\n",
        "    if tentativa == numero_pensado:\n",
        "        print(\"Parabéns! Você acertou o número em\", tentativas, \"tentativa(s).\")\n",
        "        break\n",
        "    elif tentativa < numero_pensado:\n",
        "        print(\"O número que você digitou é menor do que o número pensado. Tente novamente.\")\n",
        "    else:\n",
        "        print(\"O número que você digitou é maior do que o número pensado. Tente novamente.\")\n"
      ],
      "metadata": {
        "colab": {
          "base_uri": "https://localhost:8080/"
        },
        "id": "h3lOgpxCfExS",
        "outputId": "9d168382-02c5-419b-ab0e-3d3a0819a111"
      },
      "execution_count": null,
      "outputs": [
        {
          "output_type": "stream",
          "name": "stdout",
          "text": [
            "Bem-vindo ao jogo de adivinhação!\n",
            "Tente adivinhar o número que estou pensando, que está entre 1 e 100.\n",
            "Digite um número: 50\n",
            "O número que você digitou é maior do que o número pensado. Tente novamente.\n",
            "Digite um número: 75\n",
            "O número que você digitou é maior do que o número pensado. Tente novamente.\n",
            "Digite um número: 25\n",
            "O número que você digitou é maior do que o número pensado. Tente novamente.\n",
            "Digite um número: 17\n",
            "O número que você digitou é maior do que o número pensado. Tente novamente.\n",
            "Digite um número: 8\n",
            "O número que você digitou é menor do que o número pensado. Tente novamente.\n",
            "Digite um número: 12\n",
            "O número que você digitou é menor do que o número pensado. Tente novamente.\n",
            "Digite um número: 10\n",
            "O número que você digitou é menor do que o número pensado. Tente novamente.\n",
            "Digite um número: 15\n",
            "O número que você digitou é maior do que o número pensado. Tente novamente.\n",
            "Digite um número: 14\n",
            "Parabéns! Você acertou o número em 9 tentativa(s).\n"
          ]
        }
      ]
    },
    {
      "cell_type": "markdown",
      "source": [
        "<h3>for</h3>"
      ],
      "metadata": {
        "id": "YriLMJsLX63j"
      }
    },
    {
      "cell_type": "code",
      "source": [
        "print(joga_dado())\n",
        "print(joga_dado())\n",
        "print(joga_dado())\n",
        "print(joga_dado())\n",
        "print(joga_dado())"
      ],
      "metadata": {
        "colab": {
          "base_uri": "https://localhost:8080/"
        },
        "id": "HiV9LsTELgl6",
        "outputId": "bb383638-b1ff-4981-cf97-69c5f913420e"
      },
      "execution_count": null,
      "outputs": [
        {
          "output_type": "stream",
          "name": "stdout",
          "text": [
            "1\n",
            "2\n",
            "2\n",
            "4\n",
            "3\n"
          ]
        }
      ]
    },
    {
      "cell_type": "code",
      "source": [
        "for i in [1,2,40]:\n",
        "  print(joga_dado())"
      ],
      "metadata": {
        "colab": {
          "base_uri": "https://localhost:8080/"
        },
        "id": "aSg6AzefLx7o",
        "outputId": "30a3f72b-22a9-4595-b0d5-7e62dabde337"
      },
      "execution_count": null,
      "outputs": [
        {
          "output_type": "stream",
          "name": "stdout",
          "text": [
            "4\n",
            "5\n",
            "1\n"
          ]
        }
      ]
    },
    {
      "cell_type": "code",
      "source": [
        "soma = 0\n",
        "for i in [1,2,40]:\n",
        "  soma = soma + i\n",
        "print(soma)"
      ],
      "metadata": {
        "colab": {
          "base_uri": "https://localhost:8080/"
        },
        "id": "P9m5I1oFMT44",
        "outputId": "3ff5583a-1c8d-44a3-80c5-69210bf3c2e5"
      },
      "execution_count": null,
      "outputs": [
        {
          "output_type": "stream",
          "name": "stdout",
          "text": [
            "43\n"
          ]
        }
      ]
    },
    {
      "cell_type": "markdown",
      "source": [
        "<h3>Range</h3>"
      ],
      "metadata": {
        "id": "IJ2oe4YQNeIn"
      }
    },
    {
      "cell_type": "code",
      "source": [
        "start = 5 # inclusive\n",
        "end = 16 # exceto\n",
        "step = 2\n",
        "list(range(start, end, step))"
      ],
      "metadata": {
        "colab": {
          "base_uri": "https://localhost:8080/"
        },
        "id": "tl3Y2t7FNdMz",
        "outputId": "92710217-ce50-45d5-a1e8-a64220017f54"
      },
      "execution_count": null,
      "outputs": [
        {
          "output_type": "execute_result",
          "data": {
            "text/plain": [
              "[5, 7, 9, 11, 13, 15]"
            ]
          },
          "metadata": {},
          "execution_count": 52
        }
      ]
    },
    {
      "cell_type": "code",
      "source": [
        "list(range(0,31,3))"
      ],
      "metadata": {
        "colab": {
          "base_uri": "https://localhost:8080/"
        },
        "id": "IYgRf_wsPHPl",
        "outputId": "30d9071a-5983-4de5-f2c7-c24dd1fc246d"
      },
      "execution_count": null,
      "outputs": [
        {
          "output_type": "execute_result",
          "data": {
            "text/plain": [
              "[0, 3, 6, 9, 12, 15, 18, 21, 24, 27, 30]"
            ]
          },
          "metadata": {},
          "execution_count": 54
        }
      ]
    },
    {
      "cell_type": "markdown",
      "source": [
        "<p><b>Exercício: </b> Faça um programa em Python que calcula a soma dos números ímpares de 201 à 957 inclusive estes dois.</p>"
      ],
      "metadata": {
        "id": "rcY57tg7NisT"
      }
    },
    {
      "cell_type": "code",
      "source": [
        "soma = 0\n",
        "for i in range(201,958,2):\n",
        "  # soma = soma + i\n",
        "  soma += i\n",
        "print(soma)"
      ],
      "metadata": {
        "colab": {
          "base_uri": "https://localhost:8080/"
        },
        "id": "zc-AYeVqOoJH",
        "outputId": "2cc2c222-3284-4922-a1e6-3b0728255baf"
      },
      "execution_count": null,
      "outputs": [
        {
          "output_type": "stream",
          "name": "stdout",
          "text": [
            "219441\n"
          ]
        }
      ]
    },
    {
      "cell_type": "code",
      "source": [
        "print(\"    *\")\n",
        "print(\"   ***\")\n",
        "print(\"  *****\")\n",
        "print(\" *******\")\n",
        "print(\"*********\")"
      ],
      "metadata": {
        "colab": {
          "base_uri": "https://localhost:8080/"
        },
        "id": "xY1hvNh_O5ql",
        "outputId": "e2d6fc53-dc79-4ae2-b22a-9bf1dec45bf2"
      },
      "execution_count": null,
      "outputs": [
        {
          "output_type": "stream",
          "name": "stdout",
          "text": [
            "    *\n",
            "   ***\n",
            "  *****\n",
            " *******\n",
            "*********\n"
          ]
        }
      ]
    },
    {
      "cell_type": "code",
      "source": [
        "n = 6\n",
        "for i in range(1,n,2):\n",
        "  estrelinhas = i * \"*\"\n",
        "  indices = n - 1 - i\n",
        "  num_espacos = indices // 2\n",
        "  espacos = num_espacos * \" \"\n",
        "  estrelinhas_com_espacos = espacos + estrelinhas\n",
        "  print(estrelinhas_com_espacos)"
      ],
      "metadata": {
        "colab": {
          "base_uri": "https://localhost:8080/"
        },
        "id": "LQrGlPb7Q3oV",
        "outputId": "2b072a8e-4fc6-4d58-9795-2e4554ee05f5"
      },
      "execution_count": null,
      "outputs": [
        {
          "output_type": "stream",
          "name": "stdout",
          "text": [
            "  *\n",
            " ***\n",
            "*****\n"
          ]
        }
      ]
    },
    {
      "cell_type": "markdown",
      "source": [
        "<h2>Estruturas condicionais</h2>"
      ],
      "metadata": {
        "id": "njE8SLArRWqz"
      }
    },
    {
      "cell_type": "markdown",
      "source": [
        "<p><b>Exercício: </b>Faça um programa em Python que jogue um dado e, então, imprime \"ganhou\" se o resultado do dado for 4, 5 ou 6 e imprime \"perdeu\" se o resultado do dado for 1, 2 ou 3.</p>"
      ],
      "metadata": {
        "id": "8LLuG69eUhuH"
      }
    },
    {
      "cell_type": "code",
      "source": [
        "# armazenar o resultado do dado\n",
        "resultado = joga_dado()\n",
        "# imprimir resultado\n",
        "print(\"Resultado \", resultado)\n",
        "# se o resultado for 4,5,6 imprimir \"ganhou\"\n",
        "if resultado in [4,5,6]:\n",
        "  print(\"ganhou\")\n",
        "# senão imprimir \"perdeu\"\n",
        "else:\n",
        "  print(\"perdeu\")"
      ],
      "metadata": {
        "colab": {
          "base_uri": "https://localhost:8080/"
        },
        "id": "WjGKDR_BVIjd",
        "outputId": "db64eb7f-e8ba-47ed-fbee-94e348b12004"
      },
      "execution_count": null,
      "outputs": [
        {
          "output_type": "stream",
          "name": "stdout",
          "text": [
            "Resultado  4\n",
            "ganhou\n"
          ]
        }
      ]
    },
    {
      "cell_type": "markdown",
      "source": [
        "<p><b>Exercício: </b>Faça um programa em Python que jogue um dado e, então, imprime \"ganhou\" se o resultado do dado for 5 ou 6, imprime \"empatou\" se o resultado do dado for 3 ou 4 e imprime \"perdeu\" se o resultado do dado for 1 ou 2.</p>"
      ],
      "metadata": {
        "id": "9ucS6U_6WkCI"
      }
    },
    {
      "cell_type": "code",
      "source": [
        "resultado = joga_dado()\n",
        "print(resultado)\n",
        "if resultado in [5,6]:\n",
        "  print(\"ganhou\")\n",
        "elif resultado in [3,4]:\n",
        "  print(\"empatou\")\n",
        "else:\n",
        "  print(\"perdeu\")"
      ],
      "metadata": {
        "colab": {
          "base_uri": "https://localhost:8080/"
        },
        "id": "5hFYQgY0Ww0G",
        "outputId": "4c2e1932-8de9-43c1-d392-9141eef46c99"
      },
      "execution_count": null,
      "outputs": [
        {
          "output_type": "stream",
          "name": "stdout",
          "text": [
            "4\n",
            "empatou\n"
          ]
        }
      ]
    },
    {
      "cell_type": "markdown",
      "source": [
        "<h2>Atividade avaliativa</h2>"
      ],
      "metadata": {
        "id": "OgfoReJUjUZm"
      }
    },
    {
      "cell_type": "markdown",
      "source": [
        "<p>Faça um jogo de forca!</p>"
      ],
      "metadata": {
        "id": "8IdI5-TLjYNo"
      }
    },
    {
      "cell_type": "markdown",
      "source": [
        "<h3>Dicas</h3>"
      ],
      "metadata": {
        "id": "wLQgpMB1jcE-"
      }
    },
    {
      "cell_type": "code",
      "source": [
        "f = open(\"frutas.txt\", \"w\")\n",
        "f.write(\"banana\\n\")\n",
        "f.write(\"abacate\\n\")\n",
        "f.write(\"abacaxi\\n\")\n",
        "f.write(\"uva\\n\")\n",
        "f.close()"
      ],
      "metadata": {
        "id": "3TVeum1tXtun"
      },
      "execution_count": null,
      "outputs": []
    },
    {
      "cell_type": "code",
      "source": [
        "f = open(\"frutas.txt\", \"r\")\n",
        "frutas = f.readlines()\n",
        "print(frutas)"
      ],
      "metadata": {
        "colab": {
          "base_uri": "https://localhost:8080/"
        },
        "id": "IL1jY7cphxQ7",
        "outputId": "9d65d71f-b5bd-43a6-9bc8-ff8ee2ede248"
      },
      "execution_count": null,
      "outputs": [
        {
          "output_type": "stream",
          "name": "stdout",
          "text": [
            "['banana\\n', 'abacate\\n', 'abacaxi\\n', 'uva\\n']\n"
          ]
        }
      ]
    },
    {
      "cell_type": "code",
      "source": [
        "palavra = random.choice(frutas).strip()\n",
        "print(palavra)"
      ],
      "metadata": {
        "colab": {
          "base_uri": "https://localhost:8080/"
        },
        "id": "wdeDbOnph7kW",
        "outputId": "21debc36-81e1-45f8-819a-f303a4a207ca"
      },
      "execution_count": null,
      "outputs": [
        {
          "output_type": "stream",
          "name": "stdout",
          "text": [
            "uva\n"
          ]
        }
      ]
    },
    {
      "cell_type": "code",
      "source": [
        "print('_._._._')"
      ],
      "metadata": {
        "colab": {
          "base_uri": "https://localhost:8080/"
        },
        "id": "CBdfl7-SiC1i",
        "outputId": "8758feb4-14b7-4612-bbd9-61765f8c810d"
      },
      "execution_count": null,
      "outputs": [
        {
          "output_type": "stream",
          "name": "stdout",
          "text": [
            "_._._._\n"
          ]
        }
      ]
    },
    {
      "cell_type": "code",
      "source": [
        "print('_.a._._')"
      ],
      "metadata": {
        "colab": {
          "base_uri": "https://localhost:8080/"
        },
        "id": "aH5lePyBiwwx",
        "outputId": "333d5efb-871d-4cdd-d723-5c1e53bda33a"
      },
      "execution_count": null,
      "outputs": [
        {
          "output_type": "stream",
          "name": "stdout",
          "text": [
            "_.a._._\n"
          ]
        }
      ]
    },
    {
      "cell_type": "code",
      "source": [],
      "metadata": {
        "id": "YPW-fFfoiz-I"
      },
      "execution_count": null,
      "outputs": []
    }
  ]
}